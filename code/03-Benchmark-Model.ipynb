{
 "cells": [
  {
   "cell_type": "markdown",
   "metadata": {},
   "source": [
    "# Subreddit Spam Classifier\n",
    "#### Web APIs & Classification\n",
    "_Author: Ritchie Kwan_\n",
    "\n",
    "---\n"
   ]
  },
  {
   "cell_type": "markdown",
   "metadata": {},
   "source": [
    "## Table of Contents\n",
    "\n",
    "0. [Problem Statement](01-Gathering-Data.ipynb#Problem-Statement)\n",
    "1. [Data Collection](01-Gathering-Data.ipynb#Data-Collection)\n",
    "1. [Data Cleaning & EDA](02-Data-Cleaning-and-EDA.ipynb#Data-Cleaning-and-EDA)\n",
    "1. [Benchmark Model](#Benchmark-Model)\n",
    "1. [Model Tuning](04-Model-Tuning.ipynb#Model-Tuning)\n",
    "1. [Evaluation and Conceptual Understanding](04-Model-Tuning.ipynb#Evaluation-and-Conceptual-Understanding)\n",
    "\n"
   ]
  },
  {
   "cell_type": "markdown",
   "metadata": {},
   "source": [
    "### Import Libraries"
   ]
  },
  {
   "cell_type": "code",
   "execution_count": 37,
   "metadata": {},
   "outputs": [],
   "source": [
    "import pandas as pd\n",
    "import numpy as np\n",
    "import matplotlib.pyplot as plt\n",
    "import seaborn as sns\n",
    "\n",
    "from sklearn.feature_extraction.text import CountVectorizer, TfidfVectorizer\n",
    "from sklearn.feature_extraction.stop_words import ENGLISH_STOP_WORDS\n",
    "from sklearn.model_selection import train_test_split, GridSearchCV\n",
    "\n",
    "from sklearn.linear_model import LogisticRegression\n",
    "\n",
    "from dsi6.metrics import ClassificationMetrics\n",
    "from sklearn.model_selection import cross_val_score, KFold\n",
    "\n",
    "import warnings\n",
    "warnings.filterwarnings('ignore')"
   ]
  },
  {
   "cell_type": "markdown",
   "metadata": {},
   "source": [
    "### Load Data"
   ]
  },
  {
   "cell_type": "code",
   "execution_count": 5,
   "metadata": {},
   "outputs": [],
   "source": [
    "df = pd.read_csv('../data/leanfire-fatfire_clean.csv')\n",
    "# df = pd.read_csv('../data/shittylifeprotips-lifeprotips_clean.csv')"
   ]
  },
  {
   "cell_type": "code",
   "execution_count": 6,
   "metadata": {
    "scrolled": true
   },
   "outputs": [
    {
     "data": {
      "text/html": [
       "<div>\n",
       "<style scoped>\n",
       "    .dataframe tbody tr th:only-of-type {\n",
       "        vertical-align: middle;\n",
       "    }\n",
       "\n",
       "    .dataframe tbody tr th {\n",
       "        vertical-align: top;\n",
       "    }\n",
       "\n",
       "    .dataframe thead th {\n",
       "        text-align: right;\n",
       "    }\n",
       "</style>\n",
       "<table border=\"1\" class=\"dataframe\">\n",
       "  <thead>\n",
       "    <tr style=\"text-align: right;\">\n",
       "      <th></th>\n",
       "      <th>title</th>\n",
       "      <th>selftext</th>\n",
       "      <th>comments</th>\n",
       "      <th>subreddit_leanfire</th>\n",
       "    </tr>\n",
       "  </thead>\n",
       "  <tbody>\n",
       "    <tr>\n",
       "      <th>0</th>\n",
       "      <td>['saving', 'money', 'on', 'food']</td>\n",
       "      <td>['i', 'know', 'food', 'is', 'a', 'general', 't...</td>\n",
       "      <td>['budgetbytes', 'com', 'seconded', 'this', 'is...</td>\n",
       "      <td>1</td>\n",
       "    </tr>\n",
       "    <tr>\n",
       "      <th>1</th>\n",
       "      <td>['transitioning', 'to', 'the', 'next', 'chapte...</td>\n",
       "      <td>['i', 'm', 'in', 'my', 'late', '40', 'and', 'p...</td>\n",
       "      <td>['have', 'you', 'given', 'consideration', 'to'...</td>\n",
       "      <td>0</td>\n",
       "    </tr>\n",
       "    <tr>\n",
       "      <th>2</th>\n",
       "      <td>['26', 'yr', 'old', 'debating', '2', 'career',...</td>\n",
       "      <td>['hey', 'fatfire', 'i', 'would', 'like', 'you'...</td>\n",
       "      <td>['pe', 'without', 'a', 'doubt', 'if', 'you', '...</td>\n",
       "      <td>0</td>\n",
       "    </tr>\n",
       "    <tr>\n",
       "      <th>3</th>\n",
       "      <td>['best', 'banking', 'relationship', 'with', 'a...</td>\n",
       "      <td>['i', 'currently', 'have', 'most', 'of', 'my',...</td>\n",
       "      <td>['bofa', 'merrill', 'edge', 'with', '100k', 'b...</td>\n",
       "      <td>0</td>\n",
       "    </tr>\n",
       "    <tr>\n",
       "      <th>4</th>\n",
       "      <td>['my', 'mom', 'is', 'literally', 'working', 'f...</td>\n",
       "      <td>['my', 'parent', 'are', 'in', 'their', 'late',...</td>\n",
       "      <td>['no', 'reason', 'for', 'what', 'she', 'is', '...</td>\n",
       "      <td>1</td>\n",
       "    </tr>\n",
       "  </tbody>\n",
       "</table>\n",
       "</div>"
      ],
      "text/plain": [
       "                                               title  \\\n",
       "0                  ['saving', 'money', 'on', 'food']   \n",
       "1  ['transitioning', 'to', 'the', 'next', 'chapte...   \n",
       "2  ['26', 'yr', 'old', 'debating', '2', 'career',...   \n",
       "3  ['best', 'banking', 'relationship', 'with', 'a...   \n",
       "4  ['my', 'mom', 'is', 'literally', 'working', 'f...   \n",
       "\n",
       "                                            selftext  \\\n",
       "0  ['i', 'know', 'food', 'is', 'a', 'general', 't...   \n",
       "1  ['i', 'm', 'in', 'my', 'late', '40', 'and', 'p...   \n",
       "2  ['hey', 'fatfire', 'i', 'would', 'like', 'you'...   \n",
       "3  ['i', 'currently', 'have', 'most', 'of', 'my',...   \n",
       "4  ['my', 'parent', 'are', 'in', 'their', 'late',...   \n",
       "\n",
       "                                            comments  subreddit_leanfire  \n",
       "0  ['budgetbytes', 'com', 'seconded', 'this', 'is...                   1  \n",
       "1  ['have', 'you', 'given', 'consideration', 'to'...                   0  \n",
       "2  ['pe', 'without', 'a', 'doubt', 'if', 'you', '...                   0  \n",
       "3  ['bofa', 'merrill', 'edge', 'with', '100k', 'b...                   0  \n",
       "4  ['no', 'reason', 'for', 'what', 'she', 'is', '...                   1  "
      ]
     },
     "execution_count": 6,
     "metadata": {},
     "output_type": "execute_result"
    }
   ],
   "source": [
    "df.head()"
   ]
  },
  {
   "cell_type": "markdown",
   "metadata": {},
   "source": [
    "### Define X and y"
   ]
  },
  {
   "cell_type": "code",
   "execution_count": 7,
   "metadata": {},
   "outputs": [],
   "source": [
    "# features = ['title', 'selftext', 'comments']\n",
    "target = 'subreddit_leanfire'\n",
    "\n",
    "X = df['title'] + df['selftext'] + df['comments']\n",
    "y = df[target]"
   ]
  },
  {
   "cell_type": "code",
   "execution_count": 8,
   "metadata": {},
   "outputs": [
    {
     "data": {
      "text/plain": [
       "0    ['saving', 'money', 'on', 'food']['i', 'know',...\n",
       "1    ['transitioning', 'to', 'the', 'next', 'chapte...\n",
       "2    ['26', 'yr', 'old', 'debating', '2', 'career',...\n",
       "3    ['best', 'banking', 'relationship', 'with', 'a...\n",
       "4    ['my', 'mom', 'is', 'literally', 'working', 'f...\n",
       "dtype: object"
      ]
     },
     "execution_count": 8,
     "metadata": {},
     "output_type": "execute_result"
    }
   ],
   "source": [
    "X.head()"
   ]
  },
  {
   "cell_type": "code",
   "execution_count": 9,
   "metadata": {},
   "outputs": [
    {
     "data": {
      "text/plain": [
       "0    1\n",
       "1    0\n",
       "2    0\n",
       "3    0\n",
       "4    1\n",
       "Name: subreddit_leanfire, dtype: int64"
      ]
     },
     "execution_count": 9,
     "metadata": {},
     "output_type": "execute_result"
    }
   ],
   "source": [
    "y.head()"
   ]
  },
  {
   "cell_type": "markdown",
   "metadata": {},
   "source": [
    "### Baseline Score"
   ]
  },
  {
   "cell_type": "markdown",
   "metadata": {},
   "source": [
    "The baseline score assumes all of the data is y=1."
   ]
  },
  {
   "cell_type": "code",
   "execution_count": 10,
   "metadata": {
    "scrolled": true
   },
   "outputs": [
    {
     "name": "stdout",
     "output_type": "stream",
     "text": [
      "Baseline Score: 0.5666477595008508\n"
     ]
    }
   ],
   "source": [
    "baseline_score = y.value_counts(normalize = True)\n",
    "print(f'Baseline Score: {baseline_score[1]}')"
   ]
  },
  {
   "cell_type": "markdown",
   "metadata": {},
   "source": [
    "## Benchmark Model\n",
    "\n",
    "The benchmark model will be a `LogisticRegression` classifier."
   ]
  },
  {
   "cell_type": "markdown",
   "metadata": {},
   "source": [
    "### Train Test Split"
   ]
  },
  {
   "cell_type": "code",
   "execution_count": 11,
   "metadata": {},
   "outputs": [],
   "source": [
    "X_train, X_test, y_train, y_test = train_test_split(X, y, \n",
    "                                                    stratify = y,\n",
    "                                                    random_state = 42)"
   ]
  },
  {
   "cell_type": "markdown",
   "metadata": {},
   "source": [
    "### Remove Obvious Words"
   ]
  },
  {
   "cell_type": "code",
   "execution_count": 12,
   "metadata": {},
   "outputs": [],
   "source": [
    "custom_stop_words = list(ENGLISH_STOP_WORDS)\n",
    "custom_stop_words.extend(['http', 'www', 'reddit', 'com', 'amp', 'x200b', \n",
    "                          'deleted', 'en', 'wikipedia', 'org', 'financialindependence', \n",
    "                          'youtube', 'personalfinance', 'comment', 'leanfire', 'fatfire',\n",
    "                          'financial', 'independence'])\n",
    "custom_stop_words = list(set(custom_stop_words))"
   ]
  },
  {
   "cell_type": "code",
   "execution_count": 36,
   "metadata": {},
   "outputs": [
    {
     "data": {
      "text/plain": [
       "['http',\n",
       " 'www',\n",
       " 'reddit',\n",
       " 'com',\n",
       " 'amp',\n",
       " 'x200b',\n",
       " 'deleted',\n",
       " 'en',\n",
       " 'wikipedia',\n",
       " 'org',\n",
       " 'financialindependence',\n",
       " 'youtube',\n",
       " 'personalfinance',\n",
       " 'comment',\n",
       " 'leanfire',\n",
       " 'fatfire',\n",
       " 'financial',\n",
       " 'independence']"
      ]
     },
     "execution_count": 36,
     "metadata": {},
     "output_type": "execute_result"
    }
   ],
   "source": [
    "['http', 'www', 'reddit', 'com', 'amp', 'x200b', \n",
    "                          'deleted', 'en', 'wikipedia', 'org', 'financialindependence', \n",
    "                          'youtube', 'personalfinance', 'comment', 'leanfire', 'fatfire',\n",
    "                          'financial', 'independence']"
   ]
  },
  {
   "cell_type": "markdown",
   "metadata": {},
   "source": [
    "### CountVectorizer"
   ]
  },
  {
   "cell_type": "code",
   "execution_count": 13,
   "metadata": {
    "scrolled": true
   },
   "outputs": [
    {
     "ename": "NameError",
     "evalue": "name 'X_train_df' is not defined",
     "output_type": "error",
     "traceback": [
      "\u001b[0;31m---------------------------------------------------------------------------\u001b[0m",
      "\u001b[0;31mNameError\u001b[0m                                 Traceback (most recent call last)",
      "\u001b[0;32m<ipython-input-13-3764be1dc1c0>\u001b[0m in \u001b[0;36m<module>\u001b[0;34m\u001b[0m\n\u001b[1;32m     22\u001b[0m \u001b[0mXv_test_df\u001b[0m\u001b[0;34m.\u001b[0m\u001b[0mindex\u001b[0m \u001b[0;34m=\u001b[0m \u001b[0my_test\u001b[0m\u001b[0;34m\u001b[0m\u001b[0m\n\u001b[1;32m     23\u001b[0m \u001b[0;34m\u001b[0m\u001b[0m\n\u001b[0;32m---> 24\u001b[0;31m \u001b[0mprint\u001b[0m\u001b[0;34m(\u001b[0m\u001b[0mX_train_df\u001b[0m\u001b[0;34m.\u001b[0m\u001b[0mshape\u001b[0m\u001b[0;34m)\u001b[0m\u001b[0;34m\u001b[0m\u001b[0m\n\u001b[0m\u001b[1;32m     25\u001b[0m \u001b[0mXv_train_df\u001b[0m\u001b[0;34m.\u001b[0m\u001b[0mhead\u001b[0m\u001b[0;34m(\u001b[0m\u001b[0;34m)\u001b[0m\u001b[0;34m\u001b[0m\u001b[0m\n",
      "\u001b[0;31mNameError\u001b[0m: name 'X_train_df' is not defined"
     ]
    }
   ],
   "source": [
    "max_features = 1000\n",
    "\n",
    "# Instantiate Vectorizer\n",
    "cv = CountVectorizer(analyzer = \"word\",   \n",
    "                       tokenizer = None,    \n",
    "                       preprocessor = None,    \n",
    "                       ngram_range = (2, 2), \n",
    "                       stop_words = custom_stop_words,   \n",
    "                       max_features = max_features)\n",
    "\n",
    "# Fit and Transform\n",
    "Xv_train = cv.fit_transform(X_train)\n",
    "Xv_test = cv.transform(X_test)\n",
    "\n",
    "Xv_train = Xv_train.toarray()\n",
    "Xv_test = Xv_test.toarray()\n",
    "\n",
    "Xv_train_df = pd.DataFrame(Xv_train, columns = cv.get_feature_names())\n",
    "Xv_test_df = pd.DataFrame(Xv_test, columns = cv.get_feature_names())\n",
    "\n",
    "Xv_train_df.index = y_train\n",
    "Xv_test_df.index = y_test\n",
    "\n",
    "print(X_train_df.shape)\n",
    "Xv_train_df.head()"
   ]
  },
  {
   "cell_type": "code",
   "execution_count": null,
   "metadata": {
    "scrolled": false
   },
   "outputs": [],
   "source": [
    "top_features = Xv_train_df.loc[1].sum().sort_values(ascending = False)[:20]\n",
    "\n",
    "plt.figure(figsize = (9, 6))\n",
    "plt.title('Top 20 Words in leanfire', fontsize = 20)\n",
    "plt.ylabel('Word', fontsize = 15)\n",
    "plt.xlabel('Count', fontsize = 15)\n",
    "plt.yticks(fontsize = 12)\n",
    "sns.barplot(top_features.values, top_features.index)\n",
    "plt.show()"
   ]
  },
  {
   "cell_type": "code",
   "execution_count": null,
   "metadata": {},
   "outputs": [],
   "source": [
    "top_features = Xv_train_df.loc[0].sum().sort_values(ascending = False)[:20]\n",
    "\n",
    "plt.figure(figsize = (9, 6))\n",
    "plt.title('Top 20 Words in fatfire', fontsize = 20)\n",
    "plt.ylabel('Word', fontsize = 15)\n",
    "plt.xlabel('Count', fontsize = 15)\n",
    "plt.yticks(fontsize = 12)\n",
    "sns.barplot(top_features.values, top_features.index)\n",
    "plt.show()"
   ]
  },
  {
   "cell_type": "markdown",
   "metadata": {},
   "source": [
    "### Model"
   ]
  },
  {
   "cell_type": "code",
   "execution_count": 14,
   "metadata": {
    "scrolled": true
   },
   "outputs": [
    {
     "data": {
      "text/plain": [
       "LogisticRegression(C=1.0, class_weight=None, dual=False, fit_intercept=True,\n",
       "          intercept_scaling=1, max_iter=100, multi_class='ovr', n_jobs=1,\n",
       "          penalty='l2', random_state=None, solver='liblinear', tol=0.0001,\n",
       "          verbose=0, warm_start=False)"
      ]
     },
     "execution_count": 14,
     "metadata": {},
     "output_type": "execute_result"
    }
   ],
   "source": [
    "lr = LogisticRegression()\n",
    "\n",
    "lr.fit(Xv_train, y_train)"
   ]
  },
  {
   "cell_type": "markdown",
   "metadata": {},
   "source": [
    "### Interpret Coefficients"
   ]
  },
  {
   "cell_type": "code",
   "execution_count": 15,
   "metadata": {
    "scrolled": true
   },
   "outputs": [
    {
     "data": {
      "text/html": [
       "<div>\n",
       "<style scoped>\n",
       "    .dataframe tbody tr th:only-of-type {\n",
       "        vertical-align: middle;\n",
       "    }\n",
       "\n",
       "    .dataframe tbody tr th {\n",
       "        vertical-align: top;\n",
       "    }\n",
       "\n",
       "    .dataframe thead th {\n",
       "        text-align: right;\n",
       "    }\n",
       "</style>\n",
       "<table border=\"1\" class=\"dataframe\">\n",
       "  <thead>\n",
       "    <tr style=\"text-align: right;\">\n",
       "      <th></th>\n",
       "      <th>feature</th>\n",
       "      <th>coef</th>\n",
       "    </tr>\n",
       "  </thead>\n",
       "  <tbody>\n",
       "    <tr>\n",
       "      <th>840</th>\n",
       "      <td>time time</td>\n",
       "      <td>1.273544</td>\n",
       "    </tr>\n",
       "    <tr>\n",
       "      <th>718</th>\n",
       "      <td>save money</td>\n",
       "      <td>1.270624</td>\n",
       "    </tr>\n",
       "    <tr>\n",
       "      <th>854</th>\n",
       "      <td>traditional ira</td>\n",
       "      <td>1.155416</td>\n",
       "    </tr>\n",
       "    <tr>\n",
       "      <th>610</th>\n",
       "      <td>paying mortgage</td>\n",
       "      <td>1.120006</td>\n",
       "    </tr>\n",
       "    <tr>\n",
       "      <th>102</th>\n",
       "      <td>bogleheads wiki</td>\n",
       "      <td>1.049316</td>\n",
       "    </tr>\n",
       "    <tr>\n",
       "      <th>901</th>\n",
       "      <td>want buy</td>\n",
       "      <td>1.039592</td>\n",
       "    </tr>\n",
       "    <tr>\n",
       "      <th>25</th>\n",
       "      <td>1k month</td>\n",
       "      <td>1.035579</td>\n",
       "    </tr>\n",
       "    <tr>\n",
       "      <th>50</th>\n",
       "      <td>401k ira</td>\n",
       "      <td>1.003050</td>\n",
       "    </tr>\n",
       "    <tr>\n",
       "      <th>716</th>\n",
       "      <td>san francisco</td>\n",
       "      <td>0.932988</td>\n",
       "    </tr>\n",
       "    <tr>\n",
       "      <th>343</th>\n",
       "      <td>job market</td>\n",
       "      <td>0.914000</td>\n",
       "    </tr>\n",
       "  </tbody>\n",
       "</table>\n",
       "</div>"
      ],
      "text/plain": [
       "             feature      coef\n",
       "840        time time  1.273544\n",
       "718       save money  1.270624\n",
       "854  traditional ira  1.155416\n",
       "610  paying mortgage  1.120006\n",
       "102  bogleheads wiki  1.049316\n",
       "901         want buy  1.039592\n",
       "25          1k month  1.035579\n",
       "50          401k ira  1.003050\n",
       "716    san francisco  0.932988\n",
       "343       job market  0.914000"
      ]
     },
     "execution_count": 15,
     "metadata": {},
     "output_type": "execute_result"
    }
   ],
   "source": [
    "lr_feature_coefs = pd.DataFrame({'feature' : Xv_train_df.columns, 'coef' : lr.coef_[0]})\n",
    "lr_feature_coefs = lr_feature_coefs.sort_values(by = 'coef', ascending = False)\n",
    "lr_feature_coefs.head(10)"
   ]
  },
  {
   "cell_type": "code",
   "execution_count": 16,
   "metadata": {},
   "outputs": [
    {
     "data": {
      "text/plain": [
       "2.7470675574909267"
      ]
     },
     "execution_count": 16,
     "metadata": {},
     "output_type": "execute_result"
    }
   ],
   "source": [
    "np.exp(1.010534)"
   ]
  },
  {
   "cell_type": "markdown",
   "metadata": {},
   "source": [
    "As the number of occurences of `good money` increases by 1 in a post, the odds that the post belongs to class `y=1` is 275% as likely."
   ]
  },
  {
   "cell_type": "markdown",
   "metadata": {},
   "source": [
    "### Classification Metrics"
   ]
  },
  {
   "cell_type": "code",
   "execution_count": 17,
   "metadata": {
    "scrolled": true
   },
   "outputs": [
    {
     "data": {
      "text/plain": [
       "0.9931921331316188"
      ]
     },
     "execution_count": 17,
     "metadata": {},
     "output_type": "execute_result"
    }
   ],
   "source": [
    "lr.score(Xv_train, y_train)"
   ]
  },
  {
   "cell_type": "code",
   "execution_count": 18,
   "metadata": {},
   "outputs": [
    {
     "data": {
      "text/plain": [
       "0.81859410430839"
      ]
     },
     "execution_count": 18,
     "metadata": {},
     "output_type": "execute_result"
    }
   ],
   "source": [
    "lr.score(Xv_test, y_test)"
   ]
  },
  {
   "cell_type": "code",
   "execution_count": 19,
   "metadata": {},
   "outputs": [
    {
     "data": {
      "text/plain": [
       "0.7700102529049897"
      ]
     },
     "execution_count": 19,
     "metadata": {},
     "output_type": "execute_result"
    }
   ],
   "source": [
    "# K-Folds Cross Validation\n",
    "kf = KFold(n_splits = 10, \n",
    "           shuffle = True, \n",
    "           random_state = 42)\n",
    "\n",
    "cross_val_score(lr, Xv_train, y_train, cv = kf).mean()"
   ]
  },
  {
   "cell_type": "code",
   "execution_count": 20,
   "metadata": {},
   "outputs": [
    {
     "data": {
      "text/html": [
       "<div>\n",
       "<style scoped>\n",
       "    .dataframe tbody tr th:only-of-type {\n",
       "        vertical-align: middle;\n",
       "    }\n",
       "\n",
       "    .dataframe tbody tr th {\n",
       "        vertical-align: top;\n",
       "    }\n",
       "\n",
       "    .dataframe thead th {\n",
       "        text-align: right;\n",
       "    }\n",
       "</style>\n",
       "<table border=\"1\" class=\"dataframe\">\n",
       "  <thead>\n",
       "    <tr style=\"text-align: right;\">\n",
       "      <th></th>\n",
       "      <th>Metric</th>\n",
       "    </tr>\n",
       "  </thead>\n",
       "  <tbody>\n",
       "    <tr>\n",
       "      <th>Accuracy</th>\n",
       "      <td>0.993192</td>\n",
       "    </tr>\n",
       "    <tr>\n",
       "      <th>False Negative Rate</th>\n",
       "      <td>0.012111</td>\n",
       "    </tr>\n",
       "    <tr>\n",
       "      <th>False Positive Rate</th>\n",
       "      <td>0.012111</td>\n",
       "    </tr>\n",
       "    <tr>\n",
       "      <th>Misclassification</th>\n",
       "      <td>0.006808</td>\n",
       "    </tr>\n",
       "    <tr>\n",
       "      <th>Negative Predictive Value</th>\n",
       "      <td>0.996510</td>\n",
       "    </tr>\n",
       "    <tr>\n",
       "      <th>Precision</th>\n",
       "      <td>0.990654</td>\n",
       "    </tr>\n",
       "    <tr>\n",
       "      <th>Sensitivity</th>\n",
       "      <td>0.997312</td>\n",
       "    </tr>\n",
       "    <tr>\n",
       "      <th>Specificity</th>\n",
       "      <td>0.987889</td>\n",
       "    </tr>\n",
       "  </tbody>\n",
       "</table>\n",
       "</div>"
      ],
      "text/plain": [
       "                             Metric\n",
       "Accuracy                   0.993192\n",
       "False Negative Rate        0.012111\n",
       "False Positive Rate        0.012111\n",
       "Misclassification          0.006808\n",
       "Negative Predictive Value  0.996510\n",
       "Precision                  0.990654\n",
       "Sensitivity                0.997312\n",
       "Specificity                0.987889"
      ]
     },
     "execution_count": 20,
     "metadata": {},
     "output_type": "execute_result"
    }
   ],
   "source": [
    "cm = ClassificationMetrics()\n",
    "cm.fit(lr.predict(Xv_train), y_train)\n",
    "cm.describe()"
   ]
  },
  {
   "cell_type": "code",
   "execution_count": 21,
   "metadata": {},
   "outputs": [
    {
     "data": {
      "text/html": [
       "<div>\n",
       "<style scoped>\n",
       "    .dataframe tbody tr th:only-of-type {\n",
       "        vertical-align: middle;\n",
       "    }\n",
       "\n",
       "    .dataframe tbody tr th {\n",
       "        vertical-align: top;\n",
       "    }\n",
       "\n",
       "    .dataframe thead th {\n",
       "        text-align: right;\n",
       "    }\n",
       "</style>\n",
       "<table border=\"1\" class=\"dataframe\">\n",
       "  <thead>\n",
       "    <tr style=\"text-align: right;\">\n",
       "      <th></th>\n",
       "      <th>Metric</th>\n",
       "    </tr>\n",
       "  </thead>\n",
       "  <tbody>\n",
       "    <tr>\n",
       "      <th>Accuracy</th>\n",
       "      <td>0.818594</td>\n",
       "    </tr>\n",
       "    <tr>\n",
       "      <th>False Negative Rate</th>\n",
       "      <td>0.212435</td>\n",
       "    </tr>\n",
       "    <tr>\n",
       "      <th>False Positive Rate</th>\n",
       "      <td>0.212435</td>\n",
       "    </tr>\n",
       "    <tr>\n",
       "      <th>Misclassification</th>\n",
       "      <td>0.181406</td>\n",
       "    </tr>\n",
       "    <tr>\n",
       "      <th>Negative Predictive Value</th>\n",
       "      <td>0.795812</td>\n",
       "    </tr>\n",
       "    <tr>\n",
       "      <th>Precision</th>\n",
       "      <td>0.836000</td>\n",
       "    </tr>\n",
       "    <tr>\n",
       "      <th>Sensitivity</th>\n",
       "      <td>0.842742</td>\n",
       "    </tr>\n",
       "    <tr>\n",
       "      <th>Specificity</th>\n",
       "      <td>0.787565</td>\n",
       "    </tr>\n",
       "  </tbody>\n",
       "</table>\n",
       "</div>"
      ],
      "text/plain": [
       "                             Metric\n",
       "Accuracy                   0.818594\n",
       "False Negative Rate        0.212435\n",
       "False Positive Rate        0.212435\n",
       "Misclassification          0.181406\n",
       "Negative Predictive Value  0.795812\n",
       "Precision                  0.836000\n",
       "Sensitivity                0.842742\n",
       "Specificity                0.787565"
      ]
     },
     "execution_count": 21,
     "metadata": {},
     "output_type": "execute_result"
    }
   ],
   "source": [
    "cm = ClassificationMetrics()\n",
    "cm.fit(lr.predict(Xv_test), y_test)\n",
    "cm.describe()"
   ]
  },
  {
   "cell_type": "markdown",
   "metadata": {},
   "source": [
    "### Re-run model using TF-IDF"
   ]
  },
  {
   "cell_type": "code",
   "execution_count": 22,
   "metadata": {
    "scrolled": false
   },
   "outputs": [
    {
     "name": "stdout",
     "output_type": "stream",
     "text": [
      "(1322, 1000)\n"
     ]
    },
    {
     "data": {
      "text/html": [
       "<div>\n",
       "<style scoped>\n",
       "    .dataframe tbody tr th:only-of-type {\n",
       "        vertical-align: middle;\n",
       "    }\n",
       "\n",
       "    .dataframe tbody tr th {\n",
       "        vertical-align: top;\n",
       "    }\n",
       "\n",
       "    .dataframe thead th {\n",
       "        text-align: right;\n",
       "    }\n",
       "</style>\n",
       "<table border=\"1\" class=\"dataframe\">\n",
       "  <thead>\n",
       "    <tr style=\"text-align: right;\">\n",
       "      <th></th>\n",
       "      <th>000 000</th>\n",
       "      <th>000 month</th>\n",
       "      <th>000 year</th>\n",
       "      <th>10 000</th>\n",
       "      <th>10 15</th>\n",
       "      <th>10 20</th>\n",
       "      <th>10 million</th>\n",
       "      <th>10 month</th>\n",
       "      <th>10 year</th>\n",
       "      <th>100 000</th>\n",
       "      <th>...</th>\n",
       "      <th>year tax</th>\n",
       "      <th>year think</th>\n",
       "      <th>year time</th>\n",
       "      <th>year ve</th>\n",
       "      <th>year wa</th>\n",
       "      <th>year want</th>\n",
       "      <th>year work</th>\n",
       "      <th>year working</th>\n",
       "      <th>year worth</th>\n",
       "      <th>year year</th>\n",
       "    </tr>\n",
       "    <tr>\n",
       "      <th>subreddit_leanfire</th>\n",
       "      <th></th>\n",
       "      <th></th>\n",
       "      <th></th>\n",
       "      <th></th>\n",
       "      <th></th>\n",
       "      <th></th>\n",
       "      <th></th>\n",
       "      <th></th>\n",
       "      <th></th>\n",
       "      <th></th>\n",
       "      <th></th>\n",
       "      <th></th>\n",
       "      <th></th>\n",
       "      <th></th>\n",
       "      <th></th>\n",
       "      <th></th>\n",
       "      <th></th>\n",
       "      <th></th>\n",
       "      <th></th>\n",
       "      <th></th>\n",
       "      <th></th>\n",
       "    </tr>\n",
       "  </thead>\n",
       "  <tbody>\n",
       "    <tr>\n",
       "      <th>1</th>\n",
       "      <td>0.0</td>\n",
       "      <td>0.0</td>\n",
       "      <td>0.0</td>\n",
       "      <td>0.0</td>\n",
       "      <td>0.000000</td>\n",
       "      <td>0.000000</td>\n",
       "      <td>0.00000</td>\n",
       "      <td>0.0</td>\n",
       "      <td>0.0</td>\n",
       "      <td>0.0</td>\n",
       "      <td>...</td>\n",
       "      <td>0.0</td>\n",
       "      <td>0.0</td>\n",
       "      <td>0.0</td>\n",
       "      <td>0.0</td>\n",
       "      <td>0.0</td>\n",
       "      <td>0.0</td>\n",
       "      <td>0.0</td>\n",
       "      <td>0.0</td>\n",
       "      <td>0.0</td>\n",
       "      <td>0.000000</td>\n",
       "    </tr>\n",
       "    <tr>\n",
       "      <th>0</th>\n",
       "      <td>0.0</td>\n",
       "      <td>0.0</td>\n",
       "      <td>0.0</td>\n",
       "      <td>0.0</td>\n",
       "      <td>0.000000</td>\n",
       "      <td>0.000000</td>\n",
       "      <td>0.00000</td>\n",
       "      <td>0.0</td>\n",
       "      <td>0.0</td>\n",
       "      <td>0.0</td>\n",
       "      <td>...</td>\n",
       "      <td>0.0</td>\n",
       "      <td>0.0</td>\n",
       "      <td>0.0</td>\n",
       "      <td>0.0</td>\n",
       "      <td>0.0</td>\n",
       "      <td>0.0</td>\n",
       "      <td>0.0</td>\n",
       "      <td>0.0</td>\n",
       "      <td>0.0</td>\n",
       "      <td>0.062761</td>\n",
       "    </tr>\n",
       "    <tr>\n",
       "      <th>0</th>\n",
       "      <td>0.0</td>\n",
       "      <td>0.0</td>\n",
       "      <td>0.0</td>\n",
       "      <td>0.0</td>\n",
       "      <td>0.000000</td>\n",
       "      <td>0.140028</td>\n",
       "      <td>0.00000</td>\n",
       "      <td>0.0</td>\n",
       "      <td>0.0</td>\n",
       "      <td>0.0</td>\n",
       "      <td>...</td>\n",
       "      <td>0.0</td>\n",
       "      <td>0.0</td>\n",
       "      <td>0.0</td>\n",
       "      <td>0.0</td>\n",
       "      <td>0.0</td>\n",
       "      <td>0.0</td>\n",
       "      <td>0.0</td>\n",
       "      <td>0.0</td>\n",
       "      <td>0.0</td>\n",
       "      <td>0.000000</td>\n",
       "    </tr>\n",
       "    <tr>\n",
       "      <th>0</th>\n",
       "      <td>0.0</td>\n",
       "      <td>0.0</td>\n",
       "      <td>0.0</td>\n",
       "      <td>0.0</td>\n",
       "      <td>0.090986</td>\n",
       "      <td>0.000000</td>\n",
       "      <td>0.05652</td>\n",
       "      <td>0.0</td>\n",
       "      <td>0.0</td>\n",
       "      <td>0.0</td>\n",
       "      <td>...</td>\n",
       "      <td>0.0</td>\n",
       "      <td>0.0</td>\n",
       "      <td>0.0</td>\n",
       "      <td>0.0</td>\n",
       "      <td>0.0</td>\n",
       "      <td>0.0</td>\n",
       "      <td>0.0</td>\n",
       "      <td>0.0</td>\n",
       "      <td>0.0</td>\n",
       "      <td>0.000000</td>\n",
       "    </tr>\n",
       "    <tr>\n",
       "      <th>1</th>\n",
       "      <td>0.0</td>\n",
       "      <td>0.0</td>\n",
       "      <td>0.0</td>\n",
       "      <td>0.0</td>\n",
       "      <td>0.000000</td>\n",
       "      <td>0.000000</td>\n",
       "      <td>0.00000</td>\n",
       "      <td>0.0</td>\n",
       "      <td>0.0</td>\n",
       "      <td>0.0</td>\n",
       "      <td>...</td>\n",
       "      <td>0.0</td>\n",
       "      <td>0.0</td>\n",
       "      <td>0.0</td>\n",
       "      <td>0.0</td>\n",
       "      <td>0.0</td>\n",
       "      <td>0.0</td>\n",
       "      <td>0.0</td>\n",
       "      <td>0.0</td>\n",
       "      <td>0.0</td>\n",
       "      <td>0.000000</td>\n",
       "    </tr>\n",
       "  </tbody>\n",
       "</table>\n",
       "<p>5 rows × 1000 columns</p>\n",
       "</div>"
      ],
      "text/plain": [
       "                    000 000  000 month  000 year  10 000     10 15     10 20  \\\n",
       "subreddit_leanfire                                                             \n",
       "1                       0.0        0.0       0.0     0.0  0.000000  0.000000   \n",
       "0                       0.0        0.0       0.0     0.0  0.000000  0.000000   \n",
       "0                       0.0        0.0       0.0     0.0  0.000000  0.140028   \n",
       "0                       0.0        0.0       0.0     0.0  0.090986  0.000000   \n",
       "1                       0.0        0.0       0.0     0.0  0.000000  0.000000   \n",
       "\n",
       "                    10 million  10 month  10 year  100 000    ...      \\\n",
       "subreddit_leanfire                                            ...       \n",
       "1                      0.00000       0.0      0.0      0.0    ...       \n",
       "0                      0.00000       0.0      0.0      0.0    ...       \n",
       "0                      0.00000       0.0      0.0      0.0    ...       \n",
       "0                      0.05652       0.0      0.0      0.0    ...       \n",
       "1                      0.00000       0.0      0.0      0.0    ...       \n",
       "\n",
       "                    year tax  year think  year time  year ve  year wa  \\\n",
       "subreddit_leanfire                                                      \n",
       "1                        0.0         0.0        0.0      0.0      0.0   \n",
       "0                        0.0         0.0        0.0      0.0      0.0   \n",
       "0                        0.0         0.0        0.0      0.0      0.0   \n",
       "0                        0.0         0.0        0.0      0.0      0.0   \n",
       "1                        0.0         0.0        0.0      0.0      0.0   \n",
       "\n",
       "                    year want  year work  year working  year worth  year year  \n",
       "subreddit_leanfire                                                             \n",
       "1                         0.0        0.0           0.0         0.0   0.000000  \n",
       "0                         0.0        0.0           0.0         0.0   0.062761  \n",
       "0                         0.0        0.0           0.0         0.0   0.000000  \n",
       "0                         0.0        0.0           0.0         0.0   0.000000  \n",
       "1                         0.0        0.0           0.0         0.0   0.000000  \n",
       "\n",
       "[5 rows x 1000 columns]"
      ]
     },
     "execution_count": 22,
     "metadata": {},
     "output_type": "execute_result"
    }
   ],
   "source": [
    "# Instantiate Vectorizer\n",
    "tfidf = TfidfVectorizer(analyzer = \"word\",  \n",
    "                       tokenizer = None,    \n",
    "                       preprocessor = None, \n",
    "                       ngram_range = (2, 2), \n",
    "                       stop_words = custom_stop_words,   \n",
    "                       max_features = max_features)\n",
    "\n",
    "# Fit and Transform\n",
    "Xtfidf_train = tfidf.fit_transform(X_train)\n",
    "Xtfidf_test = tfidf.transform(X_test)\n",
    "\n",
    "Xtfidf_train = Xtfidf_train.toarray()\n",
    "Xtfidf_test = Xtfidf_test.toarray()\n",
    "\n",
    "Xtfidf_train_df = pd.DataFrame(Xtfidf_train, columns = tfidf.get_feature_names())\n",
    "Xtfidf_test_df = pd.DataFrame(Xtfidf_test, columns = tfidf.get_feature_names())\n",
    "\n",
    "Xtfidf_train_df.index = y_train\n",
    "Xtfidf_test_df.index = y_test\n",
    "\n",
    "print(Xtfidf_train_df.shape)\n",
    "Xtfidf_train_df.head()"
   ]
  },
  {
   "cell_type": "code",
   "execution_count": 27,
   "metadata": {
    "scrolled": false
   },
   "outputs": [
    {
     "data": {
      "image/png": "[encoded data removed]",
      "text/plain": [
       "<Figure size 648x432 with 1 Axes>"
      ]
     },
     "metadata": {
      "needs_background": "light"
     },
     "output_type": "display_data"
    }
   ],
   "source": [
    "top_n = 30\n",
    "top_features = Xtfidf_train_df.loc[1].max().sort_values(ascending = False)[:top_n]\n",
    "\n",
    "plt.figure(figsize = (9, 6))\n",
    "plt.title(f'Top {top_n} Words Ranked by TF-IDF in leanfire', fontsize = 20)\n",
    "plt.ylabel('Word', fontsize = 15)\n",
    "plt.xlabel('Rank', fontsize = 15)\n",
    "plt.yticks(fontsize = 12)\n",
    "sns.barplot(top_features.values, top_features.index)\n",
    "plt.show()"
   ]
  },
  {
   "cell_type": "code",
   "execution_count": 33,
   "metadata": {},
   "outputs": [
    {
     "data": {
      "text/html": [
       "<div>\n",
       "<style scoped>\n",
       "    .dataframe tbody tr th:only-of-type {\n",
       "        vertical-align: middle;\n",
       "    }\n",
       "\n",
       "    .dataframe tbody tr th {\n",
       "        vertical-align: top;\n",
       "    }\n",
       "\n",
       "    .dataframe thead th {\n",
       "        text-align: right;\n",
       "    }\n",
       "</style>\n",
       "<table border=\"1\" class=\"dataframe\">\n",
       "  <thead>\n",
       "    <tr style=\"text-align: right;\">\n",
       "      <th></th>\n",
       "      <th>Bi-gram</th>\n",
       "      <th>TF-IDF Weight</th>\n",
       "    </tr>\n",
       "  </thead>\n",
       "  <tbody>\n",
       "    <tr>\n",
       "      <th>0</th>\n",
       "      <td>let know</td>\n",
       "      <td>1.000000</td>\n",
       "    </tr>\n",
       "    <tr>\n",
       "      <th>1</th>\n",
       "      <td>college town</td>\n",
       "      <td>0.978223</td>\n",
       "    </tr>\n",
       "    <tr>\n",
       "      <th>2</th>\n",
       "      <td>tiny house</td>\n",
       "      <td>0.959976</td>\n",
       "    </tr>\n",
       "    <tr>\n",
       "      <th>3</th>\n",
       "      <td>property tax</td>\n",
       "      <td>0.920524</td>\n",
       "    </tr>\n",
       "    <tr>\n",
       "      <th>4</th>\n",
       "      <td>expense ratio</td>\n",
       "      <td>0.912464</td>\n",
       "    </tr>\n",
       "    <tr>\n",
       "      <th>5</th>\n",
       "      <td>higher return</td>\n",
       "      <td>0.911182</td>\n",
       "    </tr>\n",
       "    <tr>\n",
       "      <th>6</th>\n",
       "      <td>cash flow</td>\n",
       "      <td>0.885153</td>\n",
       "    </tr>\n",
       "    <tr>\n",
       "      <th>7</th>\n",
       "      <td>backdoor roth</td>\n",
       "      <td>0.880101</td>\n",
       "    </tr>\n",
       "    <tr>\n",
       "      <th>8</th>\n",
       "      <td>rural area</td>\n",
       "      <td>0.867759</td>\n",
       "    </tr>\n",
       "    <tr>\n",
       "      <th>9</th>\n",
       "      <td>emergency fund</td>\n",
       "      <td>0.851943</td>\n",
       "    </tr>\n",
       "    <tr>\n",
       "      <th>10</th>\n",
       "      <td>life insurance</td>\n",
       "      <td>0.848406</td>\n",
       "    </tr>\n",
       "    <tr>\n",
       "      <th>11</th>\n",
       "      <td>tax bracket</td>\n",
       "      <td>0.845549</td>\n",
       "    </tr>\n",
       "    <tr>\n",
       "      <th>12</th>\n",
       "      <td>beat market</td>\n",
       "      <td>0.826092</td>\n",
       "    </tr>\n",
       "    <tr>\n",
       "      <th>13</th>\n",
       "      <td>social security</td>\n",
       "      <td>0.812792</td>\n",
       "    </tr>\n",
       "    <tr>\n",
       "      <th>14</th>\n",
       "      <td>fun money</td>\n",
       "      <td>0.806879</td>\n",
       "    </tr>\n",
       "    <tr>\n",
       "      <th>15</th>\n",
       "      <td>low income</td>\n",
       "      <td>0.799958</td>\n",
       "    </tr>\n",
       "    <tr>\n",
       "      <th>16</th>\n",
       "      <td>real estate</td>\n",
       "      <td>0.787577</td>\n",
       "    </tr>\n",
       "    <tr>\n",
       "      <th>17</th>\n",
       "      <td>actually make</td>\n",
       "      <td>0.786864</td>\n",
       "    </tr>\n",
       "    <tr>\n",
       "      <th>18</th>\n",
       "      <td>student loan</td>\n",
       "      <td>0.777883</td>\n",
       "    </tr>\n",
       "    <tr>\n",
       "      <th>19</th>\n",
       "      <td>minimum wage</td>\n",
       "      <td>0.770255</td>\n",
       "    </tr>\n",
       "    <tr>\n",
       "      <th>20</th>\n",
       "      <td>health insurance</td>\n",
       "      <td>0.768000</td>\n",
       "    </tr>\n",
       "    <tr>\n",
       "      <th>21</th>\n",
       "      <td>mutual fund</td>\n",
       "      <td>0.758895</td>\n",
       "    </tr>\n",
       "    <tr>\n",
       "      <th>22</th>\n",
       "      <td>free money</td>\n",
       "      <td>0.758823</td>\n",
       "    </tr>\n",
       "    <tr>\n",
       "      <th>23</th>\n",
       "      <td>time time</td>\n",
       "      <td>0.752188</td>\n",
       "    </tr>\n",
       "    <tr>\n",
       "      <th>24</th>\n",
       "      <td>market fund</td>\n",
       "      <td>0.749729</td>\n",
       "    </tr>\n",
       "    <tr>\n",
       "      <th>25</th>\n",
       "      <td>credit card</td>\n",
       "      <td>0.749513</td>\n",
       "    </tr>\n",
       "    <tr>\n",
       "      <th>26</th>\n",
       "      <td>mr money</td>\n",
       "      <td>0.748146</td>\n",
       "    </tr>\n",
       "    <tr>\n",
       "      <th>27</th>\n",
       "      <td>earned income</td>\n",
       "      <td>0.734780</td>\n",
       "    </tr>\n",
       "    <tr>\n",
       "      <th>28</th>\n",
       "      <td>capital gain</td>\n",
       "      <td>0.728358</td>\n",
       "    </tr>\n",
       "    <tr>\n",
       "      <th>29</th>\n",
       "      <td>saving rate</td>\n",
       "      <td>0.727312</td>\n",
       "    </tr>\n",
       "  </tbody>\n",
       "</table>\n",
       "</div>"
      ],
      "text/plain": [
       "             Bi-gram  TF-IDF Weight\n",
       "0           let know       1.000000\n",
       "1       college town       0.978223\n",
       "2         tiny house       0.959976\n",
       "3       property tax       0.920524\n",
       "4      expense ratio       0.912464\n",
       "5      higher return       0.911182\n",
       "6          cash flow       0.885153\n",
       "7      backdoor roth       0.880101\n",
       "8         rural area       0.867759\n",
       "9     emergency fund       0.851943\n",
       "10    life insurance       0.848406\n",
       "11       tax bracket       0.845549\n",
       "12       beat market       0.826092\n",
       "13   social security       0.812792\n",
       "14         fun money       0.806879\n",
       "15        low income       0.799958\n",
       "16       real estate       0.787577\n",
       "17     actually make       0.786864\n",
       "18      student loan       0.777883\n",
       "19      minimum wage       0.770255\n",
       "20  health insurance       0.768000\n",
       "21       mutual fund       0.758895\n",
       "22        free money       0.758823\n",
       "23         time time       0.752188\n",
       "24       market fund       0.749729\n",
       "25       credit card       0.749513\n",
       "26          mr money       0.748146\n",
       "27     earned income       0.734780\n",
       "28      capital gain       0.728358\n",
       "29       saving rate       0.727312"
      ]
     },
     "execution_count": 33,
     "metadata": {},
     "output_type": "execute_result"
    }
   ],
   "source": [
    "top_features_df = pd.DataFrame()\n",
    "top_features_df['Bi-gram'] = top_features.index\n",
    "top_features_df['TF-IDF Weight'] = top_features.values\n",
    "top_features_df"
   ]
  },
  {
   "cell_type": "code",
   "execution_count": 34,
   "metadata": {},
   "outputs": [
    {
     "data": {
      "image/png": "[encoded data removed]",
      "text/plain": [
       "<Figure size 648x432 with 1 Axes>"
      ]
     },
     "metadata": {
      "needs_background": "light"
     },
     "output_type": "display_data"
    }
   ],
   "source": [
    "top_n = 30\n",
    "top_features_tfidf = Xtfidf_train_df.loc[0].max().sort_values(ascending = False)[:top_n]\n",
    "\n",
    "plt.figure(figsize = (9, 6))\n",
    "plt.title(f'Top {top_n} Words Ranked by TF-IDF in fatfire', fontsize = 20)\n",
    "plt.ylabel('Word', fontsize = 15)\n",
    "plt.xlabel('Rank', fontsize = 15)\n",
    "plt.yticks(fontsize = 12)\n",
    "sns.barplot(top_features_tfidf.values, top_features_tfidf.index)\n",
    "plt.show()"
   ]
  },
  {
   "cell_type": "code",
   "execution_count": 35,
   "metadata": {},
   "outputs": [
    {
     "data": {
      "text/html": [
       "<div>\n",
       "<style scoped>\n",
       "    .dataframe tbody tr th:only-of-type {\n",
       "        vertical-align: middle;\n",
       "    }\n",
       "\n",
       "    .dataframe tbody tr th {\n",
       "        vertical-align: top;\n",
       "    }\n",
       "\n",
       "    .dataframe thead th {\n",
       "        text-align: right;\n",
       "    }\n",
       "</style>\n",
       "<table border=\"1\" class=\"dataframe\">\n",
       "  <thead>\n",
       "    <tr style=\"text-align: right;\">\n",
       "      <th></th>\n",
       "      <th>Bi-gram</th>\n",
       "      <th>TF-IDF Weight</th>\n",
       "    </tr>\n",
       "  </thead>\n",
       "  <tbody>\n",
       "    <tr>\n",
       "      <th>0</th>\n",
       "      <td>paying tax</td>\n",
       "      <td>1.000000</td>\n",
       "    </tr>\n",
       "    <tr>\n",
       "      <th>1</th>\n",
       "      <td>hedge fund</td>\n",
       "      <td>0.972016</td>\n",
       "    </tr>\n",
       "    <tr>\n",
       "      <th>2</th>\n",
       "      <td>life insurance</td>\n",
       "      <td>0.951363</td>\n",
       "    </tr>\n",
       "    <tr>\n",
       "      <th>3</th>\n",
       "      <td>solo 401k</td>\n",
       "      <td>0.939952</td>\n",
       "    </tr>\n",
       "    <tr>\n",
       "      <th>4</th>\n",
       "      <td>private school</td>\n",
       "      <td>0.915505</td>\n",
       "    </tr>\n",
       "    <tr>\n",
       "      <th>5</th>\n",
       "      <td>accredited investor</td>\n",
       "      <td>0.911096</td>\n",
       "    </tr>\n",
       "    <tr>\n",
       "      <th>6</th>\n",
       "      <td>vacation home</td>\n",
       "      <td>0.910590</td>\n",
       "    </tr>\n",
       "    <tr>\n",
       "      <th>7</th>\n",
       "      <td>insurance company</td>\n",
       "      <td>0.893599</td>\n",
       "    </tr>\n",
       "    <tr>\n",
       "      <th>8</th>\n",
       "      <td>bay area</td>\n",
       "      <td>0.892027</td>\n",
       "    </tr>\n",
       "    <tr>\n",
       "      <th>9</th>\n",
       "      <td>career path</td>\n",
       "      <td>0.874834</td>\n",
       "    </tr>\n",
       "    <tr>\n",
       "      <th>10</th>\n",
       "      <td>high end</td>\n",
       "      <td>0.851574</td>\n",
       "    </tr>\n",
       "    <tr>\n",
       "      <th>11</th>\n",
       "      <td>middle class</td>\n",
       "      <td>0.850256</td>\n",
       "    </tr>\n",
       "    <tr>\n",
       "      <th>12</th>\n",
       "      <td>index fund</td>\n",
       "      <td>0.847539</td>\n",
       "    </tr>\n",
       "    <tr>\n",
       "      <th>13</th>\n",
       "      <td>bond fund</td>\n",
       "      <td>0.846821</td>\n",
       "    </tr>\n",
       "    <tr>\n",
       "      <th>14</th>\n",
       "      <td>health insurance</td>\n",
       "      <td>0.842871</td>\n",
       "    </tr>\n",
       "    <tr>\n",
       "      <th>15</th>\n",
       "      <td>law school</td>\n",
       "      <td>0.842212</td>\n",
       "    </tr>\n",
       "    <tr>\n",
       "      <th>16</th>\n",
       "      <td>emergency fund</td>\n",
       "      <td>0.831924</td>\n",
       "    </tr>\n",
       "    <tr>\n",
       "      <th>17</th>\n",
       "      <td>net worth</td>\n",
       "      <td>0.824329</td>\n",
       "    </tr>\n",
       "    <tr>\n",
       "      <th>18</th>\n",
       "      <td>investment property</td>\n",
       "      <td>0.824227</td>\n",
       "    </tr>\n",
       "    <tr>\n",
       "      <th>19</th>\n",
       "      <td>trust fund</td>\n",
       "      <td>0.819743</td>\n",
       "    </tr>\n",
       "    <tr>\n",
       "      <th>20</th>\n",
       "      <td>cash flow</td>\n",
       "      <td>0.817021</td>\n",
       "    </tr>\n",
       "    <tr>\n",
       "      <th>21</th>\n",
       "      <td>like idea</td>\n",
       "      <td>0.816054</td>\n",
       "    </tr>\n",
       "    <tr>\n",
       "      <th>22</th>\n",
       "      <td>real estate</td>\n",
       "      <td>0.811884</td>\n",
       "    </tr>\n",
       "    <tr>\n",
       "      <th>23</th>\n",
       "      <td>capital gain</td>\n",
       "      <td>0.796288</td>\n",
       "    </tr>\n",
       "    <tr>\n",
       "      <th>24</th>\n",
       "      <td>pre tax</td>\n",
       "      <td>0.773465</td>\n",
       "    </tr>\n",
       "    <tr>\n",
       "      <th>25</th>\n",
       "      <td>tax return</td>\n",
       "      <td>0.759123</td>\n",
       "    </tr>\n",
       "    <tr>\n",
       "      <th>26</th>\n",
       "      <td>ha great</td>\n",
       "      <td>0.750169</td>\n",
       "    </tr>\n",
       "    <tr>\n",
       "      <th>27</th>\n",
       "      <td>time market</td>\n",
       "      <td>0.745763</td>\n",
       "    </tr>\n",
       "    <tr>\n",
       "      <th>28</th>\n",
       "      <td>medical expense</td>\n",
       "      <td>0.744157</td>\n",
       "    </tr>\n",
       "    <tr>\n",
       "      <th>29</th>\n",
       "      <td>new car</td>\n",
       "      <td>0.743800</td>\n",
       "    </tr>\n",
       "  </tbody>\n",
       "</table>\n",
       "</div>"
      ],
      "text/plain": [
       "                Bi-gram  TF-IDF Weight\n",
       "0            paying tax       1.000000\n",
       "1            hedge fund       0.972016\n",
       "2        life insurance       0.951363\n",
       "3             solo 401k       0.939952\n",
       "4        private school       0.915505\n",
       "5   accredited investor       0.911096\n",
       "6         vacation home       0.910590\n",
       "7     insurance company       0.893599\n",
       "8              bay area       0.892027\n",
       "9           career path       0.874834\n",
       "10             high end       0.851574\n",
       "11         middle class       0.850256\n",
       "12           index fund       0.847539\n",
       "13            bond fund       0.846821\n",
       "14     health insurance       0.842871\n",
       "15           law school       0.842212\n",
       "16       emergency fund       0.831924\n",
       "17            net worth       0.824329\n",
       "18  investment property       0.824227\n",
       "19           trust fund       0.819743\n",
       "20            cash flow       0.817021\n",
       "21            like idea       0.816054\n",
       "22          real estate       0.811884\n",
       "23         capital gain       0.796288\n",
       "24              pre tax       0.773465\n",
       "25           tax return       0.759123\n",
       "26             ha great       0.750169\n",
       "27          time market       0.745763\n",
       "28      medical expense       0.744157\n",
       "29              new car       0.743800"
      ]
     },
     "execution_count": 35,
     "metadata": {},
     "output_type": "execute_result"
    }
   ],
   "source": [
    "top_features_tfidf_df = pd.DataFrame()\n",
    "top_features_tfidf_df['Bi-gram'] = top_features_tfidf.index\n",
    "top_features_tfidf_df['TF-IDF Weight'] = top_features_tfidf.values\n",
    "top_features_tfidf_df"
   ]
  },
  {
   "cell_type": "markdown",
   "metadata": {},
   "source": [
    "### Model"
   ]
  },
  {
   "cell_type": "code",
   "execution_count": 425,
   "metadata": {},
   "outputs": [
    {
     "data": {
      "text/plain": [
       "LogisticRegression(C=1.0, class_weight=None, dual=False, fit_intercept=True,\n",
       "          intercept_scaling=1, max_iter=100, multi_class='ovr', n_jobs=1,\n",
       "          penalty='l2', random_state=None, solver='liblinear', tol=0.0001,\n",
       "          verbose=0, warm_start=False)"
      ]
     },
     "execution_count": 425,
     "metadata": {},
     "output_type": "execute_result"
    }
   ],
   "source": [
    "lr = LogisticRegression()\n",
    "\n",
    "lr.fit(Xtfidf_train, y_train)"
   ]
  },
  {
   "cell_type": "markdown",
   "metadata": {},
   "source": [
    "### Interpret Coefficients"
   ]
  },
  {
   "cell_type": "code",
   "execution_count": 426,
   "metadata": {
    "scrolled": true
   },
   "outputs": [
    {
     "data": {
      "text/html": [
       "<div>\n",
       "<style scoped>\n",
       "    .dataframe tbody tr th:only-of-type {\n",
       "        vertical-align: middle;\n",
       "    }\n",
       "\n",
       "    .dataframe tbody tr th {\n",
       "        vertical-align: top;\n",
       "    }\n",
       "\n",
       "    .dataframe thead th {\n",
       "        text-align: right;\n",
       "    }\n",
       "</style>\n",
       "<table border=\"1\" class=\"dataframe\">\n",
       "  <thead>\n",
       "    <tr style=\"text-align: right;\">\n",
       "      <th></th>\n",
       "      <th>feature</th>\n",
       "      <th>coef</th>\n",
       "    </tr>\n",
       "  </thead>\n",
       "  <tbody>\n",
       "    <tr>\n",
       "      <th>853</th>\n",
       "      <td>traditional ira</td>\n",
       "      <td>1.712582</td>\n",
       "    </tr>\n",
       "    <tr>\n",
       "      <th>744</th>\n",
       "      <td>social security</td>\n",
       "      <td>1.710186</td>\n",
       "    </tr>\n",
       "    <tr>\n",
       "      <th>209</th>\n",
       "      <td>early retirement</td>\n",
       "      <td>1.659130</td>\n",
       "    </tr>\n",
       "    <tr>\n",
       "      <th>724</th>\n",
       "      <td>save money</td>\n",
       "      <td>1.640279</td>\n",
       "    </tr>\n",
       "    <tr>\n",
       "      <th>774</th>\n",
       "      <td>student loan</td>\n",
       "      <td>1.543807</td>\n",
       "    </tr>\n",
       "    <tr>\n",
       "      <th>144</th>\n",
       "      <td>cost living</td>\n",
       "      <td>1.477000</td>\n",
       "    </tr>\n",
       "    <tr>\n",
       "      <th>715</th>\n",
       "      <td>roth ira</td>\n",
       "      <td>1.339641</td>\n",
       "    </tr>\n",
       "    <tr>\n",
       "      <th>212</th>\n",
       "      <td>emergency fund</td>\n",
       "      <td>1.299896</td>\n",
       "    </tr>\n",
       "    <tr>\n",
       "      <th>568</th>\n",
       "      <td>new job</td>\n",
       "      <td>1.251590</td>\n",
       "    </tr>\n",
       "    <tr>\n",
       "      <th>513</th>\n",
       "      <td>minimum wage</td>\n",
       "      <td>1.229452</td>\n",
       "    </tr>\n",
       "  </tbody>\n",
       "</table>\n",
       "</div>"
      ],
      "text/plain": [
       "              feature      coef\n",
       "853   traditional ira  1.712582\n",
       "744   social security  1.710186\n",
       "209  early retirement  1.659130\n",
       "724        save money  1.640279\n",
       "774      student loan  1.543807\n",
       "144       cost living  1.477000\n",
       "715          roth ira  1.339641\n",
       "212    emergency fund  1.299896\n",
       "568           new job  1.251590\n",
       "513      minimum wage  1.229452"
      ]
     },
     "execution_count": 426,
     "metadata": {},
     "output_type": "execute_result"
    }
   ],
   "source": [
    "lr_feature_coefs = pd.DataFrame({'feature' : Xtfidf_train_df.columns, 'coef' : lr.coef_[0]})\n",
    "lr_feature_coefs = lr_feature_coefs.sort_values(by = 'coef', ascending = False)\n",
    "lr_feature_coefs.head(10)"
   ]
  },
  {
   "cell_type": "code",
   "execution_count": 428,
   "metadata": {},
   "outputs": [
    {
     "data": {
      "text/plain": [
       "5.543255702061676"
      ]
     },
     "execution_count": 428,
     "metadata": {},
     "output_type": "execute_result"
    }
   ],
   "source": [
    "np.exp(1.712582)"
   ]
  },
  {
   "cell_type": "markdown",
   "metadata": {},
   "source": [
    "Since the features were transformed by **TF-IDF**, it is not as obvious how the coefficient exactly increases to the odds that a post belongs to class `y=1`."
   ]
  },
  {
   "cell_type": "markdown",
   "metadata": {},
   "source": [
    "### Classification Metrics"
   ]
  },
  {
   "cell_type": "code",
   "execution_count": 424,
   "metadata": {},
   "outputs": [
    {
     "data": {
      "text/plain": [
       "0.8128787878787879"
      ]
     },
     "execution_count": 424,
     "metadata": {},
     "output_type": "execute_result"
    }
   ],
   "source": [
    "cross_val_score(lr, Xtfidf_train, y_train, cv = kf).mean()"
   ]
  },
  {
   "cell_type": "code",
   "execution_count": 372,
   "metadata": {
    "scrolled": true
   },
   "outputs": [
    {
     "data": {
      "text/plain": [
       "0.956060606060606"
      ]
     },
     "execution_count": 372,
     "metadata": {},
     "output_type": "execute_result"
    }
   ],
   "source": [
    "lr.score(Xtfidf_train, y_train)"
   ]
  },
  {
   "cell_type": "code",
   "execution_count": 373,
   "metadata": {},
   "outputs": [
    {
     "data": {
      "text/plain": [
       "0.8431818181818181"
      ]
     },
     "execution_count": 373,
     "metadata": {},
     "output_type": "execute_result"
    }
   ],
   "source": [
    "lr.score(Xtfidf_test, y_test)"
   ]
  },
  {
   "cell_type": "code",
   "execution_count": 374,
   "metadata": {},
   "outputs": [
    {
     "data": {
      "text/plain": [
       "0.8371212121212122"
      ]
     },
     "execution_count": 374,
     "metadata": {},
     "output_type": "execute_result"
    }
   ],
   "source": [
    "cross_val_score(lr, Xtfidf_train, y_train, cv = kf).mean()"
   ]
  },
  {
   "cell_type": "markdown",
   "metadata": {},
   "source": [
    "Since the test score is 6% lower than the training score, the model is overfit."
   ]
  },
  {
   "cell_type": "code",
   "execution_count": 375,
   "metadata": {},
   "outputs": [
    {
     "data": {
      "text/html": [
       "<div>\n",
       "<style scoped>\n",
       "    .dataframe tbody tr th:only-of-type {\n",
       "        vertical-align: middle;\n",
       "    }\n",
       "\n",
       "    .dataframe tbody tr th {\n",
       "        vertical-align: top;\n",
       "    }\n",
       "\n",
       "    .dataframe thead th {\n",
       "        text-align: right;\n",
       "    }\n",
       "</style>\n",
       "<table border=\"1\" class=\"dataframe\">\n",
       "  <thead>\n",
       "    <tr style=\"text-align: right;\">\n",
       "      <th></th>\n",
       "      <th>Metric</th>\n",
       "    </tr>\n",
       "  </thead>\n",
       "  <tbody>\n",
       "    <tr>\n",
       "      <th>Accuracy</th>\n",
       "      <td>0.956061</td>\n",
       "    </tr>\n",
       "    <tr>\n",
       "      <th>False Negative Rate</th>\n",
       "      <td>0.025878</td>\n",
       "    </tr>\n",
       "    <tr>\n",
       "      <th>False Positive Rate</th>\n",
       "      <td>0.025878</td>\n",
       "    </tr>\n",
       "    <tr>\n",
       "      <th>Misclassification</th>\n",
       "      <td>0.043939</td>\n",
       "    </tr>\n",
       "    <tr>\n",
       "      <th>Negative Predictive Value</th>\n",
       "      <td>0.922942</td>\n",
       "    </tr>\n",
       "    <tr>\n",
       "      <th>Precision</th>\n",
       "      <td>0.981308</td>\n",
       "    </tr>\n",
       "    <tr>\n",
       "      <th>Sensitivity</th>\n",
       "      <td>0.943517</td>\n",
       "    </tr>\n",
       "    <tr>\n",
       "      <th>Specificity</th>\n",
       "      <td>0.974122</td>\n",
       "    </tr>\n",
       "  </tbody>\n",
       "</table>\n",
       "</div>"
      ],
      "text/plain": [
       "                             Metric\n",
       "Accuracy                   0.956061\n",
       "False Negative Rate        0.025878\n",
       "False Positive Rate        0.025878\n",
       "Misclassification          0.043939\n",
       "Negative Predictive Value  0.922942\n",
       "Precision                  0.981308\n",
       "Sensitivity                0.943517\n",
       "Specificity                0.974122"
      ]
     },
     "execution_count": 375,
     "metadata": {},
     "output_type": "execute_result"
    }
   ],
   "source": [
    "cm = ClassificationMetrics()\n",
    "cm.fit(lr.predict(Xtfidf_train), y_train)\n",
    "cm.describe()"
   ]
  },
  {
   "cell_type": "code",
   "execution_count": 376,
   "metadata": {},
   "outputs": [
    {
     "data": {
      "text/html": [
       "<div>\n",
       "<style scoped>\n",
       "    .dataframe tbody tr th:only-of-type {\n",
       "        vertical-align: middle;\n",
       "    }\n",
       "\n",
       "    .dataframe tbody tr th {\n",
       "        vertical-align: top;\n",
       "    }\n",
       "\n",
       "    .dataframe thead th {\n",
       "        text-align: right;\n",
       "    }\n",
       "</style>\n",
       "<table border=\"1\" class=\"dataframe\">\n",
       "  <thead>\n",
       "    <tr style=\"text-align: right;\">\n",
       "      <th></th>\n",
       "      <th>Metric</th>\n",
       "    </tr>\n",
       "  </thead>\n",
       "  <tbody>\n",
       "    <tr>\n",
       "      <th>Accuracy</th>\n",
       "      <td>0.843182</td>\n",
       "    </tr>\n",
       "    <tr>\n",
       "      <th>False Negative Rate</th>\n",
       "      <td>0.114650</td>\n",
       "    </tr>\n",
       "    <tr>\n",
       "      <th>False Positive Rate</th>\n",
       "      <td>0.114650</td>\n",
       "    </tr>\n",
       "    <tr>\n",
       "      <th>Misclassification</th>\n",
       "      <td>0.156818</td>\n",
       "    </tr>\n",
       "    <tr>\n",
       "      <th>Negative Predictive Value</th>\n",
       "      <td>0.731579</td>\n",
       "    </tr>\n",
       "    <tr>\n",
       "      <th>Precision</th>\n",
       "      <td>0.928000</td>\n",
       "    </tr>\n",
       "    <tr>\n",
       "      <th>Sensitivity</th>\n",
       "      <td>0.819788</td>\n",
       "    </tr>\n",
       "    <tr>\n",
       "      <th>Specificity</th>\n",
       "      <td>0.885350</td>\n",
       "    </tr>\n",
       "  </tbody>\n",
       "</table>\n",
       "</div>"
      ],
      "text/plain": [
       "                             Metric\n",
       "Accuracy                   0.843182\n",
       "False Negative Rate        0.114650\n",
       "False Positive Rate        0.114650\n",
       "Misclassification          0.156818\n",
       "Negative Predictive Value  0.731579\n",
       "Precision                  0.928000\n",
       "Sensitivity                0.819788\n",
       "Specificity                0.885350"
      ]
     },
     "execution_count": 376,
     "metadata": {},
     "output_type": "execute_result"
    }
   ],
   "source": [
    "cm = ClassificationMetrics()\n",
    "cm.fit(lr.predict(Xtfidf_test), y_test)\n",
    "cm.describe()"
   ]
  }
 ],
 "metadata": {
  "kernelspec": {
   "display_name": "Python [conda env:dsi]",
   "language": "python",
   "name": "conda-env-dsi-py"
  },
  "language_info": {
   "codemirror_mode": {
    "name": "ipython",
    "version": 3
   },
   "file_extension": ".py",
   "mimetype": "text/x-python",
   "name": "python",
   "nbconvert_exporter": "python",
   "pygments_lexer": "ipython3",
   "version": "3.6.5"
  }
 },
 "nbformat": 4,
 "nbformat_minor": 2
}
