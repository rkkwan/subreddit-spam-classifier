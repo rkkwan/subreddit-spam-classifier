{
 "cells": [
  {
   "cell_type": "markdown",
   "metadata": {},
   "source": [
    "# Subreddit Spam Classifier\n",
    "#### Web APIs & Classification\n",
    "_Author: Ritchie Kwan_\n",
    "\n",
    "---\n"
   ]
  },
  {
   "cell_type": "markdown",
   "metadata": {},
   "source": [
    "## Table of Contents\n",
    "\n",
    "0. [Problem Statement](01-Gathering-Data.ipynb#Problem-Statement)\n",
    "1. [Data Collection](01-Gathering-Data.ipynb#Data-Collection)\n",
    "1. [Data Cleaning & EDA](02-Data-Cleaning-and-EDA.ipynb#Data-Cleaning-and-EDA)\n",
    "1. [Benchmark Model](03-Benchmark-Model.ipynb#Benchmark-Model)\n",
    "1. [Model Tuning](#Model-Tuning)\n",
    "1. [Evaluation and Conceptual Understanding](#Evaluation-and-Conceptual-Understanding)"
   ]
  },
  {
   "cell_type": "markdown",
   "metadata": {},
   "source": [
    "### Import Libraries"
   ]
  },
  {
   "cell_type": "code",
   "execution_count": 3,
   "metadata": {},
   "outputs": [],
   "source": [
    "# Install once to use GridSearchCVProgressBar\n",
    "# !pip install pactools"
   ]
  },
  {
   "cell_type": "code",
   "execution_count": 4,
   "metadata": {},
   "outputs": [
    {
     "name": "stderr",
     "output_type": "stream",
     "text": [
      "/anaconda3/envs/dsi/lib/python3.6/importlib/_bootstrap.py:219: ImportWarning: can't resolve package from __spec__ or __package__, falling back on __name__ and __path__\n",
      "  return f(*args, **kwds)\n",
      "/anaconda3/envs/dsi/lib/python3.6/site-packages/sklearn/ensemble/weight_boosting.py:29: DeprecationWarning: numpy.core.umath_tests is an internal NumPy module and should not be imported. It will be removed in a future NumPy release.\n",
      "  from numpy.core.umath_tests import inner1d\n"
     ]
    }
   ],
   "source": [
    "import pandas as pd\n",
    "import numpy as np\n",
    "import matplotlib.pyplot as plt\n",
    "import seaborn as sns\n",
    "\n",
    "import time\n",
    "\n",
    "from sklearn.model_selection import train_test_split\n",
    "from pactools.grid_search import GridSearchCVProgressBar\n",
    "\n",
    "# preprocessing, data cleaning\n",
    "from sklearn.preprocessing import StandardScaler\n",
    "from sklearn.feature_extraction.text import CountVectorizer, TfidfVectorizer\n",
    "from sklearn.feature_extraction.stop_words import ENGLISH_STOP_WORDS\n",
    "\n",
    "# classification models\n",
    "from sklearn.pipeline import Pipeline\n",
    "from sklearn.model_selection import GridSearchCV\n",
    "from sklearn.linear_model import LogisticRegression\n",
    "from sklearn.naive_bayes import MultinomialNB\n",
    "from sklearn.neighbors import KNeighborsClassifier\n",
    "from sklearn.tree import DecisionTreeClassifier\n",
    "from sklearn.ensemble import BaggingClassifier\n",
    "from sklearn.ensemble import RandomForestClassifier\n",
    "from sklearn.ensemble import ExtraTreesClassifier\n",
    "from sklearn.ensemble import AdaBoostClassifier\n",
    "from sklearn.ensemble import GradientBoostingClassifier\n",
    "from sklearn.svm import SVC\n",
    "from sklearn.ensemble import VotingClassifier\n",
    "\n",
    "# metrics\n",
    "from dsi6.metrics import ClassificationMetrics\n",
    "from sklearn.metrics import accuracy_score\n",
    "from sklearn.model_selection import cross_val_score, KFold\n",
    "\n",
    "import warnings\n",
    "warnings.filterwarnings('ignore')"
   ]
  },
  {
   "cell_type": "markdown",
   "metadata": {},
   "source": [
    "### Load Data"
   ]
  },
  {
   "cell_type": "code",
   "execution_count": 5,
   "metadata": {},
   "outputs": [],
   "source": [
    "df = pd.read_csv('../data/leanfire-fatfire_clean.csv')"
   ]
  },
  {
   "cell_type": "code",
   "execution_count": 6,
   "metadata": {},
   "outputs": [
    {
     "data": {
      "text/html": [
       "<div>\n",
       "<style scoped>\n",
       "    .dataframe tbody tr th:only-of-type {\n",
       "        vertical-align: middle;\n",
       "    }\n",
       "\n",
       "    .dataframe tbody tr th {\n",
       "        vertical-align: top;\n",
       "    }\n",
       "\n",
       "    .dataframe thead th {\n",
       "        text-align: right;\n",
       "    }\n",
       "</style>\n",
       "<table border=\"1\" class=\"dataframe\">\n",
       "  <thead>\n",
       "    <tr style=\"text-align: right;\">\n",
       "      <th></th>\n",
       "      <th>title</th>\n",
       "      <th>selftext</th>\n",
       "      <th>comments</th>\n",
       "      <th>subreddit_leanfire</th>\n",
       "    </tr>\n",
       "  </thead>\n",
       "  <tbody>\n",
       "    <tr>\n",
       "      <th>0</th>\n",
       "      <td>['saving', 'money', 'on', 'food']</td>\n",
       "      <td>['i', 'know', 'food', 'is', 'a', 'general', 't...</td>\n",
       "      <td>['budgetbytes', 'com', 'seconded', 'this', 'is...</td>\n",
       "      <td>1</td>\n",
       "    </tr>\n",
       "    <tr>\n",
       "      <th>1</th>\n",
       "      <td>['transitioning', 'to', 'the', 'next', 'chapte...</td>\n",
       "      <td>['i', 'm', 'in', 'my', 'late', '40', 'and', 'p...</td>\n",
       "      <td>['have', 'you', 'given', 'consideration', 'to'...</td>\n",
       "      <td>0</td>\n",
       "    </tr>\n",
       "    <tr>\n",
       "      <th>2</th>\n",
       "      <td>['26', 'yr', 'old', 'debating', '2', 'career',...</td>\n",
       "      <td>['hey', 'fatfire', 'i', 'would', 'like', 'you'...</td>\n",
       "      <td>['pe', 'without', 'a', 'doubt', 'if', 'you', '...</td>\n",
       "      <td>0</td>\n",
       "    </tr>\n",
       "    <tr>\n",
       "      <th>3</th>\n",
       "      <td>['best', 'banking', 'relationship', 'with', 'a...</td>\n",
       "      <td>['i', 'currently', 'have', 'most', 'of', 'my',...</td>\n",
       "      <td>['bofa', 'merrill', 'edge', 'with', '100k', 'b...</td>\n",
       "      <td>0</td>\n",
       "    </tr>\n",
       "    <tr>\n",
       "      <th>4</th>\n",
       "      <td>['my', 'mom', 'is', 'literally', 'working', 'f...</td>\n",
       "      <td>['my', 'parent', 'are', 'in', 'their', 'late',...</td>\n",
       "      <td>['no', 'reason', 'for', 'what', 'she', 'is', '...</td>\n",
       "      <td>1</td>\n",
       "    </tr>\n",
       "  </tbody>\n",
       "</table>\n",
       "</div>"
      ],
      "text/plain": [
       "                                               title  \\\n",
       "0                  ['saving', 'money', 'on', 'food']   \n",
       "1  ['transitioning', 'to', 'the', 'next', 'chapte...   \n",
       "2  ['26', 'yr', 'old', 'debating', '2', 'career',...   \n",
       "3  ['best', 'banking', 'relationship', 'with', 'a...   \n",
       "4  ['my', 'mom', 'is', 'literally', 'working', 'f...   \n",
       "\n",
       "                                            selftext  \\\n",
       "0  ['i', 'know', 'food', 'is', 'a', 'general', 't...   \n",
       "1  ['i', 'm', 'in', 'my', 'late', '40', 'and', 'p...   \n",
       "2  ['hey', 'fatfire', 'i', 'would', 'like', 'you'...   \n",
       "3  ['i', 'currently', 'have', 'most', 'of', 'my',...   \n",
       "4  ['my', 'parent', 'are', 'in', 'their', 'late',...   \n",
       "\n",
       "                                            comments  subreddit_leanfire  \n",
       "0  ['budgetbytes', 'com', 'seconded', 'this', 'is...                   1  \n",
       "1  ['have', 'you', 'given', 'consideration', 'to'...                   0  \n",
       "2  ['pe', 'without', 'a', 'doubt', 'if', 'you', '...                   0  \n",
       "3  ['bofa', 'merrill', 'edge', 'with', '100k', 'b...                   0  \n",
       "4  ['no', 'reason', 'for', 'what', 'she', 'is', '...                   1  "
      ]
     },
     "execution_count": 6,
     "metadata": {},
     "output_type": "execute_result"
    }
   ],
   "source": [
    "df.head()"
   ]
  },
  {
   "cell_type": "markdown",
   "metadata": {},
   "source": [
    "### Define X and y"
   ]
  },
  {
   "cell_type": "code",
   "execution_count": 7,
   "metadata": {},
   "outputs": [],
   "source": [
    "target = 'subreddit_leanfire'\n",
    "\n",
    "X = df['title'] + df['selftext'] + df['comments']\n",
    "y = df[target]"
   ]
  },
  {
   "cell_type": "markdown",
   "metadata": {},
   "source": [
    "## Model Tuning\n",
    "\n",
    "1. Vectorize\n",
    "    - CountVectorizer\n",
    "    - TdidfVectorizer\n",
    "1. For each vectorization method, compare classification models\n",
    "    - LogisticRegression\n",
    "    - KNN\n",
    "    - NaiveBayes\n",
    "        - MultinomialNB\n",
    "    - DecisionTree\n",
    "    - Bagging\n",
    "    - RandomForest\n",
    "    - ExtraTrees\n",
    "    - AdaBoost\n",
    "    - SupportVectorMachine\n",
    "        - SVC\n",
    "    - Voting   \n",
    "1. Tune hyperparameters of each model with GridSearch"
   ]
  },
  {
   "cell_type": "markdown",
   "metadata": {},
   "source": [
    "### Train Test Split"
   ]
  },
  {
   "cell_type": "code",
   "execution_count": 8,
   "metadata": {},
   "outputs": [],
   "source": [
    "X_train, X_test, y_train, y_test = train_test_split(X, y, \n",
    "                                                    stratify = y,\n",
    "                                                    random_state = 42)"
   ]
  },
  {
   "cell_type": "markdown",
   "metadata": {},
   "source": [
    "### Add more stop words"
   ]
  },
  {
   "cell_type": "code",
   "execution_count": 9,
   "metadata": {},
   "outputs": [],
   "source": [
    "custom_stop_words = list(ENGLISH_STOP_WORDS)\n",
    "custom_stop_words.extend(['http', 'www', 'reddit', 'com', 'amp', 'x200b', \n",
    "                          'deleted', 'en', 'wikipedia', 'org', 'financialindependence', \n",
    "                          'youtube', 'personalfinance', 'comment', 'leanfire', 'fatfire',\n",
    "                          'financial', 'independence'])\n",
    "custom_stop_words = list(set(custom_stop_words))"
   ]
  },
  {
   "cell_type": "markdown",
   "metadata": {},
   "source": [
    "### Vectorize with CountVectorizer"
   ]
  },
  {
   "cell_type": "code",
   "execution_count": 10,
   "metadata": {
    "scrolled": true
   },
   "outputs": [
    {
     "name": "stdout",
     "output_type": "stream",
     "text": [
      "(1322, 1000)\n"
     ]
    },
    {
     "data": {
      "text/html": [
       "<div>\n",
       "<style scoped>\n",
       "    .dataframe tbody tr th:only-of-type {\n",
       "        vertical-align: middle;\n",
       "    }\n",
       "\n",
       "    .dataframe tbody tr th {\n",
       "        vertical-align: top;\n",
       "    }\n",
       "\n",
       "    .dataframe thead th {\n",
       "        text-align: right;\n",
       "    }\n",
       "</style>\n",
       "<table border=\"1\" class=\"dataframe\">\n",
       "  <thead>\n",
       "    <tr style=\"text-align: right;\">\n",
       "      <th></th>\n",
       "      <th>000 000</th>\n",
       "      <th>000 month</th>\n",
       "      <th>000 year</th>\n",
       "      <th>10 000</th>\n",
       "      <th>10 15</th>\n",
       "      <th>10 20</th>\n",
       "      <th>10 million</th>\n",
       "      <th>10 month</th>\n",
       "      <th>10 year</th>\n",
       "      <th>100 000</th>\n",
       "      <th>...</th>\n",
       "      <th>year tax</th>\n",
       "      <th>year think</th>\n",
       "      <th>year time</th>\n",
       "      <th>year ve</th>\n",
       "      <th>year wa</th>\n",
       "      <th>year want</th>\n",
       "      <th>year work</th>\n",
       "      <th>year working</th>\n",
       "      <th>year worth</th>\n",
       "      <th>year year</th>\n",
       "    </tr>\n",
       "    <tr>\n",
       "      <th>subreddit_leanfire</th>\n",
       "      <th></th>\n",
       "      <th></th>\n",
       "      <th></th>\n",
       "      <th></th>\n",
       "      <th></th>\n",
       "      <th></th>\n",
       "      <th></th>\n",
       "      <th></th>\n",
       "      <th></th>\n",
       "      <th></th>\n",
       "      <th></th>\n",
       "      <th></th>\n",
       "      <th></th>\n",
       "      <th></th>\n",
       "      <th></th>\n",
       "      <th></th>\n",
       "      <th></th>\n",
       "      <th></th>\n",
       "      <th></th>\n",
       "      <th></th>\n",
       "      <th></th>\n",
       "    </tr>\n",
       "  </thead>\n",
       "  <tbody>\n",
       "    <tr>\n",
       "      <th>1</th>\n",
       "      <td>0</td>\n",
       "      <td>0</td>\n",
       "      <td>0</td>\n",
       "      <td>0</td>\n",
       "      <td>0</td>\n",
       "      <td>0</td>\n",
       "      <td>0</td>\n",
       "      <td>0</td>\n",
       "      <td>0</td>\n",
       "      <td>0</td>\n",
       "      <td>...</td>\n",
       "      <td>0</td>\n",
       "      <td>0</td>\n",
       "      <td>0</td>\n",
       "      <td>0</td>\n",
       "      <td>0</td>\n",
       "      <td>0</td>\n",
       "      <td>0</td>\n",
       "      <td>0</td>\n",
       "      <td>0</td>\n",
       "      <td>0</td>\n",
       "    </tr>\n",
       "    <tr>\n",
       "      <th>0</th>\n",
       "      <td>0</td>\n",
       "      <td>0</td>\n",
       "      <td>0</td>\n",
       "      <td>0</td>\n",
       "      <td>0</td>\n",
       "      <td>0</td>\n",
       "      <td>0</td>\n",
       "      <td>0</td>\n",
       "      <td>0</td>\n",
       "      <td>0</td>\n",
       "      <td>...</td>\n",
       "      <td>0</td>\n",
       "      <td>0</td>\n",
       "      <td>0</td>\n",
       "      <td>0</td>\n",
       "      <td>0</td>\n",
       "      <td>0</td>\n",
       "      <td>0</td>\n",
       "      <td>0</td>\n",
       "      <td>0</td>\n",
       "      <td>1</td>\n",
       "    </tr>\n",
       "    <tr>\n",
       "      <th>0</th>\n",
       "      <td>0</td>\n",
       "      <td>0</td>\n",
       "      <td>0</td>\n",
       "      <td>0</td>\n",
       "      <td>0</td>\n",
       "      <td>2</td>\n",
       "      <td>0</td>\n",
       "      <td>0</td>\n",
       "      <td>0</td>\n",
       "      <td>0</td>\n",
       "      <td>...</td>\n",
       "      <td>0</td>\n",
       "      <td>0</td>\n",
       "      <td>0</td>\n",
       "      <td>0</td>\n",
       "      <td>0</td>\n",
       "      <td>0</td>\n",
       "      <td>0</td>\n",
       "      <td>0</td>\n",
       "      <td>0</td>\n",
       "      <td>0</td>\n",
       "    </tr>\n",
       "    <tr>\n",
       "      <th>0</th>\n",
       "      <td>0</td>\n",
       "      <td>0</td>\n",
       "      <td>0</td>\n",
       "      <td>0</td>\n",
       "      <td>2</td>\n",
       "      <td>0</td>\n",
       "      <td>1</td>\n",
       "      <td>0</td>\n",
       "      <td>0</td>\n",
       "      <td>0</td>\n",
       "      <td>...</td>\n",
       "      <td>0</td>\n",
       "      <td>0</td>\n",
       "      <td>0</td>\n",
       "      <td>0</td>\n",
       "      <td>0</td>\n",
       "      <td>0</td>\n",
       "      <td>0</td>\n",
       "      <td>0</td>\n",
       "      <td>0</td>\n",
       "      <td>0</td>\n",
       "    </tr>\n",
       "    <tr>\n",
       "      <th>1</th>\n",
       "      <td>0</td>\n",
       "      <td>0</td>\n",
       "      <td>0</td>\n",
       "      <td>0</td>\n",
       "      <td>0</td>\n",
       "      <td>0</td>\n",
       "      <td>0</td>\n",
       "      <td>0</td>\n",
       "      <td>0</td>\n",
       "      <td>0</td>\n",
       "      <td>...</td>\n",
       "      <td>0</td>\n",
       "      <td>0</td>\n",
       "      <td>0</td>\n",
       "      <td>0</td>\n",
       "      <td>0</td>\n",
       "      <td>0</td>\n",
       "      <td>0</td>\n",
       "      <td>0</td>\n",
       "      <td>0</td>\n",
       "      <td>0</td>\n",
       "    </tr>\n",
       "  </tbody>\n",
       "</table>\n",
       "<p>5 rows × 1000 columns</p>\n",
       "</div>"
      ],
      "text/plain": [
       "                    000 000  000 month  000 year  10 000  10 15  10 20  \\\n",
       "subreddit_leanfire                                                       \n",
       "1                         0          0         0       0      0      0   \n",
       "0                         0          0         0       0      0      0   \n",
       "0                         0          0         0       0      0      2   \n",
       "0                         0          0         0       0      2      0   \n",
       "1                         0          0         0       0      0      0   \n",
       "\n",
       "                    10 million  10 month  10 year  100 000    ...      \\\n",
       "subreddit_leanfire                                            ...       \n",
       "1                            0         0        0        0    ...       \n",
       "0                            0         0        0        0    ...       \n",
       "0                            0         0        0        0    ...       \n",
       "0                            1         0        0        0    ...       \n",
       "1                            0         0        0        0    ...       \n",
       "\n",
       "                    year tax  year think  year time  year ve  year wa  \\\n",
       "subreddit_leanfire                                                      \n",
       "1                          0           0          0        0        0   \n",
       "0                          0           0          0        0        0   \n",
       "0                          0           0          0        0        0   \n",
       "0                          0           0          0        0        0   \n",
       "1                          0           0          0        0        0   \n",
       "\n",
       "                    year want  year work  year working  year worth  year year  \n",
       "subreddit_leanfire                                                             \n",
       "1                           0          0             0           0          0  \n",
       "0                           0          0             0           0          1  \n",
       "0                           0          0             0           0          0  \n",
       "0                           0          0             0           0          0  \n",
       "1                           0          0             0           0          0  \n",
       "\n",
       "[5 rows x 1000 columns]"
      ]
     },
     "execution_count": 10,
     "metadata": {},
     "output_type": "execute_result"
    }
   ],
   "source": [
    "# Instantiate Vectorizer\n",
    "cv = CountVectorizer(analyzer = \"word\",   \n",
    "                       tokenizer = None,    \n",
    "                       ngram_range = (2, 2), \n",
    "                       preprocessor = None, \n",
    "                       stop_words = custom_stop_words, \n",
    "                       max_features = 1000)\n",
    "\n",
    "# Fit and Transform\n",
    "Xv_train = cv.fit_transform(X_train)\n",
    "Xv_test = cv.transform(X_test)\n",
    "\n",
    "Xv_train = Xv_train.toarray()\n",
    "Xv_test = Xv_test.toarray()\n",
    "\n",
    "Xv_train_df = pd.DataFrame(Xv_train, columns = cv.get_feature_names())\n",
    "Xv_test_df = pd.DataFrame(Xv_test, columns = cv.get_feature_names())\n",
    "\n",
    "Xv_train_df.index = y_train\n",
    "Xv_test_df.index = y_test\n",
    "\n",
    "print(Xv_train_df.shape)\n",
    "Xv_train_df.head()"
   ]
  },
  {
   "cell_type": "code",
   "execution_count": 11,
   "metadata": {},
   "outputs": [
    {
     "data": {
      "image/png": "[encoded data removed]",
      "text/plain": [
       "<Figure size 648x432 with 1 Axes>"
      ]
     },
     "metadata": {
      "needs_background": "light"
     },
     "output_type": "display_data"
    }
   ],
   "source": [
    "top_features = Xv_train_df.loc[1].sum().sort_values(ascending = False)[:20]\n",
    "\n",
    "plt.figure(figsize = (9, 6))\n",
    "plt.title('Top 20 Words in leanfire', fontsize = 20)\n",
    "plt.ylabel('Word', fontsize = 15)\n",
    "plt.xlabel('Count', fontsize = 15)\n",
    "plt.yticks(fontsize = 12)\n",
    "sns.barplot(top_features.values, top_features.index)\n",
    "plt.show()"
   ]
  },
  {
   "cell_type": "code",
   "execution_count": 12,
   "metadata": {},
   "outputs": [
    {
     "data": {
      "image/png": "[encoded data removed]",
      "text/plain": [
       "<Figure size 648x432 with 1 Axes>"
      ]
     },
     "metadata": {
      "needs_background": "light"
     },
     "output_type": "display_data"
    }
   ],
   "source": [
    "top_features = Xv_train_df.loc[0].sum().sort_values(ascending = False)[:20]\n",
    "\n",
    "plt.figure(figsize = (9, 6))\n",
    "plt.title('Top 20 Words in fatfire', fontsize = 20)\n",
    "plt.ylabel('Word', fontsize = 15)\n",
    "plt.xlabel('Count', fontsize = 15)\n",
    "plt.yticks(fontsize = 12)\n",
    "sns.barplot(top_features.values, top_features.index)\n",
    "plt.show()"
   ]
  },
  {
   "cell_type": "markdown",
   "metadata": {},
   "source": [
    "### Vectorize with TF-IDF"
   ]
  },
  {
   "cell_type": "code",
   "execution_count": 25,
   "metadata": {},
   "outputs": [
    {
     "data": {
      "text/plain": [
       "126     ['a', 'reminder', 'on', 'good', 'posting', 'pr...\n",
       "348     ['alternative', 'to', 'the', 'stock', 'market'...\n",
       "1450    ['what', 'do', 'you', 'guy', 'do', 'for', 'hea...\n",
       "1515    ['any', 'fatfire', 'story', 'from', 'europe'][...\n",
       "1150    ['rental', 'property', 'and', 'tax']['i', 'm',...\n",
       "dtype: object"
      ]
     },
     "execution_count": 25,
     "metadata": {},
     "output_type": "execute_result"
    }
   ],
   "source": [
    "X_train.head()"
   ]
  },
  {
   "cell_type": "code",
   "execution_count": 14,
   "metadata": {},
   "outputs": [
    {
     "name": "stdout",
     "output_type": "stream",
     "text": [
      "(1322, 1000)\n"
     ]
    },
    {
     "data": {
      "text/html": [
       "<div>\n",
       "<style scoped>\n",
       "    .dataframe tbody tr th:only-of-type {\n",
       "        vertical-align: middle;\n",
       "    }\n",
       "\n",
       "    .dataframe tbody tr th {\n",
       "        vertical-align: top;\n",
       "    }\n",
       "\n",
       "    .dataframe thead th {\n",
       "        text-align: right;\n",
       "    }\n",
       "</style>\n",
       "<table border=\"1\" class=\"dataframe\">\n",
       "  <thead>\n",
       "    <tr style=\"text-align: right;\">\n",
       "      <th></th>\n",
       "      <th>000 000</th>\n",
       "      <th>000 month</th>\n",
       "      <th>000 year</th>\n",
       "      <th>10 000</th>\n",
       "      <th>10 15</th>\n",
       "      <th>10 20</th>\n",
       "      <th>10 million</th>\n",
       "      <th>10 month</th>\n",
       "      <th>10 year</th>\n",
       "      <th>100 000</th>\n",
       "      <th>...</th>\n",
       "      <th>year tax</th>\n",
       "      <th>year think</th>\n",
       "      <th>year time</th>\n",
       "      <th>year ve</th>\n",
       "      <th>year wa</th>\n",
       "      <th>year want</th>\n",
       "      <th>year work</th>\n",
       "      <th>year working</th>\n",
       "      <th>year worth</th>\n",
       "      <th>year year</th>\n",
       "    </tr>\n",
       "    <tr>\n",
       "      <th>subreddit_leanfire</th>\n",
       "      <th></th>\n",
       "      <th></th>\n",
       "      <th></th>\n",
       "      <th></th>\n",
       "      <th></th>\n",
       "      <th></th>\n",
       "      <th></th>\n",
       "      <th></th>\n",
       "      <th></th>\n",
       "      <th></th>\n",
       "      <th></th>\n",
       "      <th></th>\n",
       "      <th></th>\n",
       "      <th></th>\n",
       "      <th></th>\n",
       "      <th></th>\n",
       "      <th></th>\n",
       "      <th></th>\n",
       "      <th></th>\n",
       "      <th></th>\n",
       "      <th></th>\n",
       "    </tr>\n",
       "  </thead>\n",
       "  <tbody>\n",
       "    <tr>\n",
       "      <th>1</th>\n",
       "      <td>0.0</td>\n",
       "      <td>0.0</td>\n",
       "      <td>0.0</td>\n",
       "      <td>0.0</td>\n",
       "      <td>0.000000</td>\n",
       "      <td>0.000000</td>\n",
       "      <td>0.00000</td>\n",
       "      <td>0.0</td>\n",
       "      <td>0.0</td>\n",
       "      <td>0.0</td>\n",
       "      <td>...</td>\n",
       "      <td>0.0</td>\n",
       "      <td>0.0</td>\n",
       "      <td>0.0</td>\n",
       "      <td>0.0</td>\n",
       "      <td>0.0</td>\n",
       "      <td>0.0</td>\n",
       "      <td>0.0</td>\n",
       "      <td>0.0</td>\n",
       "      <td>0.0</td>\n",
       "      <td>0.000000</td>\n",
       "    </tr>\n",
       "    <tr>\n",
       "      <th>0</th>\n",
       "      <td>0.0</td>\n",
       "      <td>0.0</td>\n",
       "      <td>0.0</td>\n",
       "      <td>0.0</td>\n",
       "      <td>0.000000</td>\n",
       "      <td>0.000000</td>\n",
       "      <td>0.00000</td>\n",
       "      <td>0.0</td>\n",
       "      <td>0.0</td>\n",
       "      <td>0.0</td>\n",
       "      <td>...</td>\n",
       "      <td>0.0</td>\n",
       "      <td>0.0</td>\n",
       "      <td>0.0</td>\n",
       "      <td>0.0</td>\n",
       "      <td>0.0</td>\n",
       "      <td>0.0</td>\n",
       "      <td>0.0</td>\n",
       "      <td>0.0</td>\n",
       "      <td>0.0</td>\n",
       "      <td>0.062761</td>\n",
       "    </tr>\n",
       "    <tr>\n",
       "      <th>0</th>\n",
       "      <td>0.0</td>\n",
       "      <td>0.0</td>\n",
       "      <td>0.0</td>\n",
       "      <td>0.0</td>\n",
       "      <td>0.000000</td>\n",
       "      <td>0.140028</td>\n",
       "      <td>0.00000</td>\n",
       "      <td>0.0</td>\n",
       "      <td>0.0</td>\n",
       "      <td>0.0</td>\n",
       "      <td>...</td>\n",
       "      <td>0.0</td>\n",
       "      <td>0.0</td>\n",
       "      <td>0.0</td>\n",
       "      <td>0.0</td>\n",
       "      <td>0.0</td>\n",
       "      <td>0.0</td>\n",
       "      <td>0.0</td>\n",
       "      <td>0.0</td>\n",
       "      <td>0.0</td>\n",
       "      <td>0.000000</td>\n",
       "    </tr>\n",
       "    <tr>\n",
       "      <th>0</th>\n",
       "      <td>0.0</td>\n",
       "      <td>0.0</td>\n",
       "      <td>0.0</td>\n",
       "      <td>0.0</td>\n",
       "      <td>0.090986</td>\n",
       "      <td>0.000000</td>\n",
       "      <td>0.05652</td>\n",
       "      <td>0.0</td>\n",
       "      <td>0.0</td>\n",
       "      <td>0.0</td>\n",
       "      <td>...</td>\n",
       "      <td>0.0</td>\n",
       "      <td>0.0</td>\n",
       "      <td>0.0</td>\n",
       "      <td>0.0</td>\n",
       "      <td>0.0</td>\n",
       "      <td>0.0</td>\n",
       "      <td>0.0</td>\n",
       "      <td>0.0</td>\n",
       "      <td>0.0</td>\n",
       "      <td>0.000000</td>\n",
       "    </tr>\n",
       "    <tr>\n",
       "      <th>1</th>\n",
       "      <td>0.0</td>\n",
       "      <td>0.0</td>\n",
       "      <td>0.0</td>\n",
       "      <td>0.0</td>\n",
       "      <td>0.000000</td>\n",
       "      <td>0.000000</td>\n",
       "      <td>0.00000</td>\n",
       "      <td>0.0</td>\n",
       "      <td>0.0</td>\n",
       "      <td>0.0</td>\n",
       "      <td>...</td>\n",
       "      <td>0.0</td>\n",
       "      <td>0.0</td>\n",
       "      <td>0.0</td>\n",
       "      <td>0.0</td>\n",
       "      <td>0.0</td>\n",
       "      <td>0.0</td>\n",
       "      <td>0.0</td>\n",
       "      <td>0.0</td>\n",
       "      <td>0.0</td>\n",
       "      <td>0.000000</td>\n",
       "    </tr>\n",
       "  </tbody>\n",
       "</table>\n",
       "<p>5 rows × 1000 columns</p>\n",
       "</div>"
      ],
      "text/plain": [
       "                    000 000  000 month  000 year  10 000     10 15     10 20  \\\n",
       "subreddit_leanfire                                                             \n",
       "1                       0.0        0.0       0.0     0.0  0.000000  0.000000   \n",
       "0                       0.0        0.0       0.0     0.0  0.000000  0.000000   \n",
       "0                       0.0        0.0       0.0     0.0  0.000000  0.140028   \n",
       "0                       0.0        0.0       0.0     0.0  0.090986  0.000000   \n",
       "1                       0.0        0.0       0.0     0.0  0.000000  0.000000   \n",
       "\n",
       "                    10 million  10 month  10 year  100 000    ...      \\\n",
       "subreddit_leanfire                                            ...       \n",
       "1                      0.00000       0.0      0.0      0.0    ...       \n",
       "0                      0.00000       0.0      0.0      0.0    ...       \n",
       "0                      0.00000       0.0      0.0      0.0    ...       \n",
       "0                      0.05652       0.0      0.0      0.0    ...       \n",
       "1                      0.00000       0.0      0.0      0.0    ...       \n",
       "\n",
       "                    year tax  year think  year time  year ve  year wa  \\\n",
       "subreddit_leanfire                                                      \n",
       "1                        0.0         0.0        0.0      0.0      0.0   \n",
       "0                        0.0         0.0        0.0      0.0      0.0   \n",
       "0                        0.0         0.0        0.0      0.0      0.0   \n",
       "0                        0.0         0.0        0.0      0.0      0.0   \n",
       "1                        0.0         0.0        0.0      0.0      0.0   \n",
       "\n",
       "                    year want  year work  year working  year worth  year year  \n",
       "subreddit_leanfire                                                             \n",
       "1                         0.0        0.0           0.0         0.0   0.000000  \n",
       "0                         0.0        0.0           0.0         0.0   0.062761  \n",
       "0                         0.0        0.0           0.0         0.0   0.000000  \n",
       "0                         0.0        0.0           0.0         0.0   0.000000  \n",
       "1                         0.0        0.0           0.0         0.0   0.000000  \n",
       "\n",
       "[5 rows x 1000 columns]"
      ]
     },
     "execution_count": 14,
     "metadata": {},
     "output_type": "execute_result"
    }
   ],
   "source": [
    "# Instantiate Vectorizer\n",
    "tfidf = TfidfVectorizer(analyzer = \"word\",   \n",
    "                       tokenizer = None,    \n",
    "                       ngram_range = (2, 2),\n",
    "                       preprocessor = None, \n",
    "                       stop_words = custom_stop_words,   \n",
    "                       max_features = 1000)\n",
    "\n",
    "# Fit and Transform\n",
    "Xtfidf_train = tfidf.fit_transform(X_train)\n",
    "Xtfidf_test = tfidf.transform(X_test)\n",
    "\n",
    "Xtfidf_train = Xtfidf_train.toarray()\n",
    "Xtfidf_test = Xtfidf_test.toarray()\n",
    "\n",
    "Xtfidf_train_df = pd.DataFrame(Xtfidf_train, columns = tfidf.get_feature_names())\n",
    "Xtfidf_test_df = pd.DataFrame(Xtfidf_test, columns = tfidf.get_feature_names())\n",
    "\n",
    "Xtfidf_train_df.index = y_train\n",
    "Xtfidf_test_df.index = y_test\n",
    "\n",
    "print(Xtfidf_train_df.shape)\n",
    "Xtfidf_train_df.head()"
   ]
  },
  {
   "cell_type": "code",
   "execution_count": 12,
   "metadata": {
    "scrolled": false
   },
   "outputs": [
    {
     "data": {
      "image/png": "[encoded data removed]",
      "text/plain": [
       "<Figure size 648x432 with 1 Axes>"
      ]
     },
     "metadata": {
      "needs_background": "light"
     },
     "output_type": "display_data"
    }
   ],
   "source": [
    "top_n = 30\n",
    "top_features = Xtfidf_train_df.loc[1].max().sort_values(ascending = False)[:top_n]\n",
    "\n",
    "plt.figure(figsize = (9, 6))\n",
    "plt.title(f'Top {top_n} Words Ranked by TF-IDF in leanfire', fontsize = 20)\n",
    "plt.ylabel('Word', fontsize = 15)\n",
    "plt.xlabel('Rank', fontsize = 15)\n",
    "plt.yticks(fontsize = 12)\n",
    "sns.barplot(top_features.values, top_features.index)\n",
    "plt.show()"
   ]
  },
  {
   "cell_type": "code",
   "execution_count": 13,
   "metadata": {},
   "outputs": [
    {
     "data": {
      "image/png": "[encoded data removed]",
      "text/plain": [
       "<Figure size 648x432 with 1 Axes>"
      ]
     },
     "metadata": {
      "needs_background": "light"
     },
     "output_type": "display_data"
    }
   ],
   "source": [
    "top_n = 30\n",
    "top_features = Xtfidf_train_df.loc[0].max().sort_values(ascending = False)[:top_n]\n",
    "\n",
    "plt.figure(figsize = (9, 6))\n",
    "plt.title(f'Top {top_n} Words Ranked by TF-IDF in fatfire', fontsize = 20)\n",
    "plt.ylabel('Word', fontsize = 15)\n",
    "plt.xlabel('Rank', fontsize = 15)\n",
    "plt.yticks(fontsize = 12)\n",
    "sns.barplot(top_features.values, top_features.index)\n",
    "plt.show()"
   ]
  },
  {
   "cell_type": "markdown",
   "metadata": {},
   "source": [
    "It appears that `/r/leanfire` posts tend to talk more about living in a tiny house, rural area, expense ratio, saving rate; lifestyles that involve **minimizing cost of living**. `/r/fatfire` posts more about vacation home, bay area, investment property, law school, new car; life styles that involve a **high cost of living**."
   ]
  },
  {
   "cell_type": "markdown",
   "metadata": {},
   "source": [
    "### Instantiate all models"
   ]
  },
  {
   "cell_type": "code",
   "execution_count": 14,
   "metadata": {},
   "outputs": [],
   "source": [
    "classifier_models = {\n",
    "    'LogisticRegression' : LogisticRegression(),\n",
    "    'KNN': KNeighborsClassifier(), \n",
    "    'NaiveBayes' : MultinomialNB(),\n",
    "    'DecisionTree' : DecisionTreeClassifier(random_state = 42), \n",
    "    'BaggedDecisionTree' : BaggingClassifier(random_state = 42),\n",
    "    'RandomForest' : RandomForestClassifier(random_state = 42), \n",
    "    'ExtraTrees' : ExtraTreesClassifier(random_state = 42), \n",
    "    'AdaBoost' : AdaBoostClassifier(random_state=42), \n",
    "#     'GradientBoosting' : GradientBoostingClassifier(random_state = 42),\n",
    "    'SVM' : SVC()\n",
    "}"
   ]
  },
  {
   "cell_type": "markdown",
   "metadata": {},
   "source": [
    "### Set up param_grid for GridSearching each model"
   ]
  },
  {
   "cell_type": "code",
   "execution_count": 15,
   "metadata": {},
   "outputs": [],
   "source": [
    "classifier_model_params = {\n",
    "    'LogisticRegression' : {\n",
    "        'penalty' : ['l1', 'l2'],\n",
    "        'C' : [.1, 1, 10] },\n",
    "    'KNN' : {\n",
    "        'n_neighbors' : [5, 9, 13, 17, 21] },\n",
    "    'NaiveBayes' : {\n",
    "        'alpha' : [.5, 1, 2]},\n",
    "    'DecisionTree': {\n",
    "        'max_depth' : [None, 6, 10, 14], \n",
    "        'min_samples_leaf' : [1, 2],\n",
    "        'min_samples_split': [2, 3] },\n",
    "    'BaggedDecisionTree' : {\n",
    "        'n_estimators' : [20, 30, 40] },\n",
    "    'RandomForest' : {\n",
    "        'n_estimators' : [20, 30, 40],\n",
    "        'max_depth' : [None, 2, 6, 10],\n",
    "        'min_samples_split' : [2, 3, 4] },\n",
    "    'ExtraTrees' : {\n",
    "        'n_estimators' : [20, 30, 40],\n",
    "        'max_depth' : [None, 6, 10, 14],\n",
    "        'min_samples_leaf' : [1, 2], \n",
    "        'min_samples_split' : [2, 3], },\n",
    "    'AdaBoost' : {\n",
    "        'n_estimators' : [25, 50, 75],\n",
    "        'learning_rate' : [0.9, 1.0] },\n",
    "#     'GradientBoosting' : {\n",
    "#         'n_estimators' : [100, 150],\n",
    "#         'learning_rate' : [0.9, 1.0],\n",
    "#         'max_depth' : [2, 3] },\n",
    "    'SVM' : {\n",
    "        'C' : [.5, 1, 2],\n",
    "        'kernel' : ['rbf', 'linear'] }\n",
    "}"
   ]
  },
  {
   "cell_type": "markdown",
   "metadata": {},
   "source": [
    "### Define a function to GridSearch a model"
   ]
  },
  {
   "cell_type": "code",
   "execution_count": 16,
   "metadata": {},
   "outputs": [],
   "source": [
    "def gridsearch_summary(X_train, X_test, y_train, y_test, model_name, model, model_params, problem = 'classification'):\n",
    "    '''\n",
    "    Arguments:\n",
    "    X_train, X_test, y_train, y_test : vectorized train test split of X and y\n",
    "    model_name : str name of model\n",
    "    model : model constructor\n",
    "        example: 'LogisticRegression' : LogisticRegression()\n",
    "    model_params : dictionary of param_grids for GridSearch\n",
    "        example: 'LogisticRegression' : {\n",
    "                      'penalty' : ['l1', 'l2'],\n",
    "                      'C' : [.1, 1, 10] }\n",
    "    problem : str of problem type: 'classification' or 'regression'\n",
    "    \n",
    "    Return:\n",
    "    summary_df : a single row DataFrame containing the GridSearch model and its \n",
    "              best model, predictions, and scores.\n",
    "    '''   \n",
    "    problem = problem.lower()\n",
    "    \n",
    "    if problem != 'regression' and problem != 'classification':\n",
    "        print('Invalid problem type. Try \"regression\" or \"classification\"')\n",
    "        return\n",
    "\n",
    "    summary = {}\n",
    "\n",
    "    # Track progress\n",
    "    print(f'Fitting {model_name}')\n",
    "\n",
    "    # GridSearch\n",
    "    gs = GridSearchCVProgressBar(model, model_params, cv = 5)\n",
    "    gs.fit(X_train, y_train)\n",
    "\n",
    "    # Make predictions\n",
    "    y_train_pred = gs.best_estimator_.predict(X_train)\n",
    "    y_test_pred = gs.best_estimator_.predict(X_test)\n",
    "\n",
    "    # Build summary\n",
    "    summary['Model Name'] = model_name\n",
    "    summary['Train Pred'] = y_train_pred\n",
    "    summary['Test Pred'] = y_test_pred\n",
    "    summary['Best Score'] = gs.best_score_\n",
    "    summary['Best Params'] = gs.best_params_\n",
    "    summary['Best Estimator'] = gs.best_estimator_\n",
    "    summary['Grid Search Model'] = gs\n",
    "\n",
    "    if problem == 'regression':\n",
    "        summary['Train Score'] = r2_score(y_train, y_train_pred)\n",
    "        summary['Test Score'] = r2_score(y_test, y_test_pred)\n",
    "    elif problem == 'classification':\n",
    "        summary['Train Score'] = accuracy_score(y_train, y_train_pred)\n",
    "        summary['Test Score'] = accuracy_score(y_test, y_test_pred)\n",
    "    \n",
    "    # Construct output dataframe \n",
    "    summary_df = pd.DataFrame([summary])\n",
    "\n",
    "    # Rearrange columns\n",
    "    summary_df = summary_df[['Model Name', 'Best Params', 'Best Score', 'Best Estimator',\n",
    "                             'Train Score', 'Test Score', 'Train Pred', 'Test Pred', 'Grid Search Model']]\n",
    "        \n",
    "    return summary_df"
   ]
  },
  {
   "cell_type": "markdown",
   "metadata": {},
   "source": [
    "### Run each model with default hyperparameters"
   ]
  },
  {
   "cell_type": "markdown",
   "metadata": {},
   "source": [
    "#### With CountVectorizer"
   ]
  },
  {
   "cell_type": "code",
   "execution_count": 17,
   "metadata": {
    "scrolled": true
   },
   "outputs": [
    {
     "name": "stdout",
     "output_type": "stream",
     "text": [
      "Fitting LogisticRegression\n",
      "Fitting KNN\n",
      "Fitting NaiveBayes\n",
      "Fitting DecisionTree\n",
      "Fitting BaggedDecisionTree\n",
      "Fitting RandomForest\n",
      "Fitting ExtraTrees\n",
      "Fitting AdaBoost\n",
      "Fitting SVM\n"
     ]
    }
   ],
   "source": [
    "summaries = []\n",
    "\n",
    "for model_name, model in classifier_models.items():\n",
    "    summary = {}\n",
    "    \n",
    "    print(f'Fitting {model_name}')\n",
    "    model.fit(Xv_train, y_train)\n",
    "    y_train_pred = model.predict(Xv_train)\n",
    "    y_test_pred = model.predict(Xv_test)\n",
    "\n",
    "    # K-Folds Cross Validation\n",
    "    kf = KFold(n_splits = 10, \n",
    "           shuffle = True, \n",
    "           random_state = 42)\n",
    "    \n",
    "    summary['Model Name'] = model_name\n",
    "    summary['Model'] = model\n",
    "    summary['Train Pred'] = y_train_pred\n",
    "    summary['Test Pred'] = y_test_pred\n",
    "    summary['Train Score'] = model.score(Xv_train, y_train)\n",
    "    summary['Test Score'] = model.score(Xv_test, y_test)\n",
    "    summary['CV Score'] = cross_val_score(model, Xv_train, y_train, cv = kf).mean()\n",
    "\n",
    "    summaries.append(summary)\n",
    "    \n",
    "benchmark_models_cv = pd.DataFrame(summaries)"
   ]
  },
  {
   "cell_type": "code",
   "execution_count": 18,
   "metadata": {
    "scrolled": true
   },
   "outputs": [
    {
     "data": {
      "text/html": [
       "<div>\n",
       "<style scoped>\n",
       "    .dataframe tbody tr th:only-of-type {\n",
       "        vertical-align: middle;\n",
       "    }\n",
       "\n",
       "    .dataframe tbody tr th {\n",
       "        vertical-align: top;\n",
       "    }\n",
       "\n",
       "    .dataframe thead th {\n",
       "        text-align: right;\n",
       "    }\n",
       "</style>\n",
       "<table border=\"1\" class=\"dataframe\">\n",
       "  <thead>\n",
       "    <tr style=\"text-align: right;\">\n",
       "      <th></th>\n",
       "      <th>Model Name</th>\n",
       "      <th>CV Score</th>\n",
       "      <th>Train Score</th>\n",
       "      <th>Test Score</th>\n",
       "    </tr>\n",
       "  </thead>\n",
       "  <tbody>\n",
       "    <tr>\n",
       "      <th>0</th>\n",
       "      <td>LogisticRegression</td>\n",
       "      <td>0.770010</td>\n",
       "      <td>0.993192</td>\n",
       "      <td>0.818594</td>\n",
       "    </tr>\n",
       "    <tr>\n",
       "      <th>1</th>\n",
       "      <td>KNN</td>\n",
       "      <td>0.679249</td>\n",
       "      <td>0.788200</td>\n",
       "      <td>0.648526</td>\n",
       "    </tr>\n",
       "    <tr>\n",
       "      <th>2</th>\n",
       "      <td>NaiveBayes</td>\n",
       "      <td>0.840408</td>\n",
       "      <td>0.874433</td>\n",
       "      <td>0.825397</td>\n",
       "    </tr>\n",
       "    <tr>\n",
       "      <th>3</th>\n",
       "      <td>DecisionTree</td>\n",
       "      <td>0.710259</td>\n",
       "      <td>0.999244</td>\n",
       "      <td>0.696145</td>\n",
       "    </tr>\n",
       "    <tr>\n",
       "      <th>4</th>\n",
       "      <td>BaggedDecisionTree</td>\n",
       "      <td>0.749567</td>\n",
       "      <td>0.992436</td>\n",
       "      <td>0.707483</td>\n",
       "    </tr>\n",
       "    <tr>\n",
       "      <th>5</th>\n",
       "      <td>RandomForest</td>\n",
       "      <td>0.751897</td>\n",
       "      <td>0.990923</td>\n",
       "      <td>0.734694</td>\n",
       "    </tr>\n",
       "    <tr>\n",
       "      <th>6</th>\n",
       "      <td>ExtraTrees</td>\n",
       "      <td>0.726902</td>\n",
       "      <td>0.999244</td>\n",
       "      <td>0.671202</td>\n",
       "    </tr>\n",
       "    <tr>\n",
       "      <th>7</th>\n",
       "      <td>AdaBoost</td>\n",
       "      <td>0.769993</td>\n",
       "      <td>0.847958</td>\n",
       "      <td>0.780045</td>\n",
       "    </tr>\n",
       "    <tr>\n",
       "      <th>8</th>\n",
       "      <td>SVM</td>\n",
       "      <td>0.754118</td>\n",
       "      <td>0.801815</td>\n",
       "      <td>0.739229</td>\n",
       "    </tr>\n",
       "  </tbody>\n",
       "</table>\n",
       "</div>"
      ],
      "text/plain": [
       "           Model Name  CV Score  Train Score  Test Score\n",
       "0  LogisticRegression  0.770010     0.993192    0.818594\n",
       "1                 KNN  0.679249     0.788200    0.648526\n",
       "2          NaiveBayes  0.840408     0.874433    0.825397\n",
       "3        DecisionTree  0.710259     0.999244    0.696145\n",
       "4  BaggedDecisionTree  0.749567     0.992436    0.707483\n",
       "5        RandomForest  0.751897     0.990923    0.734694\n",
       "6          ExtraTrees  0.726902     0.999244    0.671202\n",
       "7            AdaBoost  0.769993     0.847958    0.780045\n",
       "8                 SVM  0.754118     0.801815    0.739229"
      ]
     },
     "execution_count": 18,
     "metadata": {},
     "output_type": "execute_result"
    }
   ],
   "source": [
    "benchmark_models_cv[['Model Name', 'CV Score', 'Train Score', 'Test Score']]"
   ]
  },
  {
   "cell_type": "markdown",
   "metadata": {},
   "source": [
    "**Naive Bayes** (`MultinomialNB`) appears to be performing the best in terms of cross validated accuracy. The Tree models are severely overfit."
   ]
  },
  {
   "cell_type": "markdown",
   "metadata": {},
   "source": [
    "#### With TfidfVectorizer"
   ]
  },
  {
   "cell_type": "code",
   "execution_count": 19,
   "metadata": {
    "scrolled": true
   },
   "outputs": [
    {
     "name": "stdout",
     "output_type": "stream",
     "text": [
      "Fitting LogisticRegression\n",
      "Fitting KNN\n",
      "Fitting NaiveBayes\n",
      "Fitting DecisionTree\n",
      "Fitting BaggedDecisionTree\n",
      "Fitting RandomForest\n",
      "Fitting ExtraTrees\n",
      "Fitting AdaBoost\n",
      "Fitting SVM\n"
     ]
    }
   ],
   "source": [
    "summaries = []\n",
    "\n",
    "for model_name, model in classifier_models.items():\n",
    "    summary = {}\n",
    "    \n",
    "    print(f'Fitting {model_name}')\n",
    "    model.fit(Xtfidf_train, y_train)\n",
    "    y_train_pred = model.predict(Xtfidf_train)\n",
    "    y_test_pred = model.predict(Xtfidf_test)\n",
    "\n",
    "    # K-Folds Cross Validation\n",
    "    kf = KFold(n_splits = 10, \n",
    "           shuffle = True, \n",
    "           random_state = 42)\n",
    "    \n",
    "    summary['Model Name'] = model_name\n",
    "    summary['Model'] = model\n",
    "    summary['Train Pred'] = y_train_pred\n",
    "    summary['Test Pred'] = y_test_pred\n",
    "    summary['Train Score'] = model.score(Xtfidf_train, y_train)\n",
    "    summary['Test Score'] = model.score(Xtfidf_test, y_test)\n",
    "    summary['CV Score'] = cross_val_score(model, Xtfidf_train, y_train, cv = kf).mean()\n",
    "\n",
    "    summaries.append(summary)\n",
    "    \n",
    "benchmark_models_tfidf = pd.DataFrame(summaries)"
   ]
  },
  {
   "cell_type": "code",
   "execution_count": 20,
   "metadata": {
    "scrolled": true
   },
   "outputs": [
    {
     "data": {
      "text/html": [
       "<div>\n",
       "<style scoped>\n",
       "    .dataframe tbody tr th:only-of-type {\n",
       "        vertical-align: middle;\n",
       "    }\n",
       "\n",
       "    .dataframe tbody tr th {\n",
       "        vertical-align: top;\n",
       "    }\n",
       "\n",
       "    .dataframe thead th {\n",
       "        text-align: right;\n",
       "    }\n",
       "</style>\n",
       "<table border=\"1\" class=\"dataframe\">\n",
       "  <thead>\n",
       "    <tr style=\"text-align: right;\">\n",
       "      <th></th>\n",
       "      <th>Model Name</th>\n",
       "      <th>CV Score</th>\n",
       "      <th>Train Score</th>\n",
       "      <th>Test Score</th>\n",
       "    </tr>\n",
       "  </thead>\n",
       "  <tbody>\n",
       "    <tr>\n",
       "      <th>0</th>\n",
       "      <td>LogisticRegression</td>\n",
       "      <td>0.811648</td>\n",
       "      <td>0.915280</td>\n",
       "      <td>0.823129</td>\n",
       "    </tr>\n",
       "    <tr>\n",
       "      <th>1</th>\n",
       "      <td>KNN</td>\n",
       "      <td>0.630793</td>\n",
       "      <td>0.640696</td>\n",
       "      <td>0.600907</td>\n",
       "    </tr>\n",
       "    <tr>\n",
       "      <th>2</th>\n",
       "      <td>NaiveBayes</td>\n",
       "      <td>0.830559</td>\n",
       "      <td>0.885023</td>\n",
       "      <td>0.823129</td>\n",
       "    </tr>\n",
       "    <tr>\n",
       "      <th>3</th>\n",
       "      <td>DecisionTree</td>\n",
       "      <td>0.686005</td>\n",
       "      <td>0.999244</td>\n",
       "      <td>0.675737</td>\n",
       "    </tr>\n",
       "    <tr>\n",
       "      <th>4</th>\n",
       "      <td>BaggedDecisionTree</td>\n",
       "      <td>0.755685</td>\n",
       "      <td>0.990923</td>\n",
       "      <td>0.741497</td>\n",
       "    </tr>\n",
       "    <tr>\n",
       "      <th>5</th>\n",
       "      <td>RandomForest</td>\n",
       "      <td>0.751122</td>\n",
       "      <td>0.994705</td>\n",
       "      <td>0.761905</td>\n",
       "    </tr>\n",
       "    <tr>\n",
       "      <th>6</th>\n",
       "      <td>ExtraTrees</td>\n",
       "      <td>0.754141</td>\n",
       "      <td>0.999244</td>\n",
       "      <td>0.748299</td>\n",
       "    </tr>\n",
       "    <tr>\n",
       "      <th>7</th>\n",
       "      <td>AdaBoost</td>\n",
       "      <td>0.751908</td>\n",
       "      <td>0.865356</td>\n",
       "      <td>0.764172</td>\n",
       "    </tr>\n",
       "    <tr>\n",
       "      <th>8</th>\n",
       "      <td>SVM</td>\n",
       "      <td>0.566496</td>\n",
       "      <td>0.566566</td>\n",
       "      <td>0.566893</td>\n",
       "    </tr>\n",
       "  </tbody>\n",
       "</table>\n",
       "</div>"
      ],
      "text/plain": [
       "           Model Name  CV Score  Train Score  Test Score\n",
       "0  LogisticRegression  0.811648     0.915280    0.823129\n",
       "1                 KNN  0.630793     0.640696    0.600907\n",
       "2          NaiveBayes  0.830559     0.885023    0.823129\n",
       "3        DecisionTree  0.686005     0.999244    0.675737\n",
       "4  BaggedDecisionTree  0.755685     0.990923    0.741497\n",
       "5        RandomForest  0.751122     0.994705    0.761905\n",
       "6          ExtraTrees  0.754141     0.999244    0.748299\n",
       "7            AdaBoost  0.751908     0.865356    0.764172\n",
       "8                 SVM  0.566496     0.566566    0.566893"
      ]
     },
     "execution_count": 20,
     "metadata": {},
     "output_type": "execute_result"
    }
   ],
   "source": [
    "benchmark_models_tfidf[['Model Name', 'CV Score', 'Train Score', 'Test Score']]"
   ]
  },
  {
   "cell_type": "markdown",
   "metadata": {},
   "source": [
    "**Naive Bayes** wins again. DecisionTree and ExtraTree reached perfect training predictions, but are even more overfit."
   ]
  },
  {
   "cell_type": "markdown",
   "metadata": {},
   "source": [
    "### Tune hyperparameters of each Classification model using GridSearch"
   ]
  },
  {
   "cell_type": "markdown",
   "metadata": {},
   "source": [
    "#### With CountVectorizer"
   ]
  },
  {
   "cell_type": "code",
   "execution_count": 23,
   "metadata": {},
   "outputs": [
    {
     "name": "stdout",
     "output_type": "stream",
     "text": [
      "Fitting LogisticRegression\n",
      "[........................................] 100% | 1.01 sec | GridSearchCV \n",
      "Fitting KNN\n",
      "[........................................] 100% | 53.77 sec | GridSearchCV \n",
      "Fitting NaiveBayes\n",
      "[........................................] 100% | 0.26 sec | GridSearchCV \n",
      "Fitting DecisionTree\n",
      "[........................................] 100% | 5.44 sec | GridSearchCV \n",
      "Fitting BaggedDecisionTree\n",
      "[........................................] 100% | 25.96 sec | GridSearchCV \n",
      "Fitting RandomForest\n",
      "[........................................] 100% | 16.19 sec | GridSearchCV \n",
      "Fitting ExtraTrees\n",
      "[........................................] 100% | 28.88 sec | GridSearchCV \n",
      "Fitting AdaBoost\n",
      "[........................................] 100% | 15.14 sec | GridSearchCV \n",
      "Fitting SVM\n",
      "[........................................] 100% | 57.55 sec | GridSearchCV \n"
     ]
    },
    {
     "data": {
      "text/plain": [
       "216.28527998924255"
      ]
     },
     "execution_count": 23,
     "metadata": {},
     "output_type": "execute_result"
    }
   ],
   "source": [
    "t0 = time.time()\n",
    "gs_cv_summaries = pd.DataFrame()\n",
    "\n",
    "for model_name, model in classifier_models.items():\n",
    "    gs_cv_summaries = gs_cv_summaries.append(gridsearch_summary(Xv_train, Xv_test, y_train, y_test, \n",
    "                                               model_name, model, \n",
    "                                               classifier_model_params[model_name]), ignore_index = True)\n",
    "time.time() - t0"
   ]
  },
  {
   "cell_type": "code",
   "execution_count": 27,
   "metadata": {
    "scrolled": true
   },
   "outputs": [
    {
     "data": {
      "text/html": [
       "<div>\n",
       "<style scoped>\n",
       "    .dataframe tbody tr th:only-of-type {\n",
       "        vertical-align: middle;\n",
       "    }\n",
       "\n",
       "    .dataframe tbody tr th {\n",
       "        vertical-align: top;\n",
       "    }\n",
       "\n",
       "    .dataframe thead th {\n",
       "        text-align: right;\n",
       "    }\n",
       "</style>\n",
       "<table border=\"1\" class=\"dataframe\">\n",
       "  <thead>\n",
       "    <tr style=\"text-align: right;\">\n",
       "      <th></th>\n",
       "      <th>Model Name</th>\n",
       "      <th>Best Params</th>\n",
       "      <th>Best Score</th>\n",
       "      <th>Train Score</th>\n",
       "      <th>Test Score</th>\n",
       "    </tr>\n",
       "  </thead>\n",
       "  <tbody>\n",
       "    <tr>\n",
       "      <th>0</th>\n",
       "      <td>LogisticRegression</td>\n",
       "      <td>{'C': 0.1, 'penalty': 'l2'}</td>\n",
       "      <td>0.795008</td>\n",
       "      <td>0.960666</td>\n",
       "      <td>0.818594</td>\n",
       "    </tr>\n",
       "    <tr>\n",
       "      <th>1</th>\n",
       "      <td>KNN</td>\n",
       "      <td>{'n_neighbors': 21}</td>\n",
       "      <td>0.686082</td>\n",
       "      <td>0.738275</td>\n",
       "      <td>0.684807</td>\n",
       "    </tr>\n",
       "    <tr>\n",
       "      <th>2</th>\n",
       "      <td>NaiveBayes</td>\n",
       "      <td>{'alpha': 0.5}</td>\n",
       "      <td>0.834342</td>\n",
       "      <td>0.875189</td>\n",
       "      <td>0.823129</td>\n",
       "    </tr>\n",
       "    <tr>\n",
       "      <th>3</th>\n",
       "      <td>DecisionTree</td>\n",
       "      <td>{'max_depth': None, 'min_samples_leaf': 1, 'mi...</td>\n",
       "      <td>0.698941</td>\n",
       "      <td>0.997731</td>\n",
       "      <td>0.700680</td>\n",
       "    </tr>\n",
       "    <tr>\n",
       "      <th>4</th>\n",
       "      <td>BaggedDecisionTree</td>\n",
       "      <td>{'n_estimators': 30}</td>\n",
       "      <td>0.770802</td>\n",
       "      <td>0.996974</td>\n",
       "      <td>0.727891</td>\n",
       "    </tr>\n",
       "    <tr>\n",
       "      <th>5</th>\n",
       "      <td>RandomForest</td>\n",
       "      <td>{'max_depth': None, 'min_samples_split': 4, 'n...</td>\n",
       "      <td>0.792738</td>\n",
       "      <td>0.997731</td>\n",
       "      <td>0.789116</td>\n",
       "    </tr>\n",
       "    <tr>\n",
       "      <th>6</th>\n",
       "      <td>ExtraTrees</td>\n",
       "      <td>{'max_depth': None, 'min_samples_leaf': 1, 'mi...</td>\n",
       "      <td>0.785930</td>\n",
       "      <td>0.999244</td>\n",
       "      <td>0.759637</td>\n",
       "    </tr>\n",
       "    <tr>\n",
       "      <th>7</th>\n",
       "      <td>AdaBoost</td>\n",
       "      <td>{'learning_rate': 0.9, 'n_estimators': 75}</td>\n",
       "      <td>0.762481</td>\n",
       "      <td>0.880484</td>\n",
       "      <td>0.795918</td>\n",
       "    </tr>\n",
       "    <tr>\n",
       "      <th>8</th>\n",
       "      <td>SVM</td>\n",
       "      <td>{'C': 2, 'kernel': 'rbf'}</td>\n",
       "      <td>0.783661</td>\n",
       "      <td>0.875946</td>\n",
       "      <td>0.791383</td>\n",
       "    </tr>\n",
       "  </tbody>\n",
       "</table>\n",
       "</div>"
      ],
      "text/plain": [
       "           Model Name                                        Best Params  \\\n",
       "0  LogisticRegression                        {'C': 0.1, 'penalty': 'l2'}   \n",
       "1                 KNN                                {'n_neighbors': 21}   \n",
       "2          NaiveBayes                                     {'alpha': 0.5}   \n",
       "3        DecisionTree  {'max_depth': None, 'min_samples_leaf': 1, 'mi...   \n",
       "4  BaggedDecisionTree                               {'n_estimators': 30}   \n",
       "5        RandomForest  {'max_depth': None, 'min_samples_split': 4, 'n...   \n",
       "6          ExtraTrees  {'max_depth': None, 'min_samples_leaf': 1, 'mi...   \n",
       "7            AdaBoost         {'learning_rate': 0.9, 'n_estimators': 75}   \n",
       "8                 SVM                          {'C': 2, 'kernel': 'rbf'}   \n",
       "\n",
       "   Best Score  Train Score  Test Score  \n",
       "0    0.795008     0.960666    0.818594  \n",
       "1    0.686082     0.738275    0.684807  \n",
       "2    0.834342     0.875189    0.823129  \n",
       "3    0.698941     0.997731    0.700680  \n",
       "4    0.770802     0.996974    0.727891  \n",
       "5    0.792738     0.997731    0.789116  \n",
       "6    0.785930     0.999244    0.759637  \n",
       "7    0.762481     0.880484    0.795918  \n",
       "8    0.783661     0.875946    0.791383  "
      ]
     },
     "execution_count": 27,
     "metadata": {},
     "output_type": "execute_result"
    }
   ],
   "source": [
    "gs_cv_summaries[['Model Name', 'Best Params', 'Best Score', 'Train Score', 'Test Score']]"
   ]
  },
  {
   "cell_type": "markdown",
   "metadata": {},
   "source": [
    "#### With TfidfVectorizer"
   ]
  },
  {
   "cell_type": "code",
   "execution_count": 28,
   "metadata": {},
   "outputs": [
    {
     "name": "stdout",
     "output_type": "stream",
     "text": [
      "Fitting LogisticRegression\n",
      "[........................................] 100% | 0.57 sec | GridSearchCV \n",
      "Fitting KNN\n",
      "[........................................] 100% | 61.40 sec | GridSearchCV \n",
      "Fitting NaiveBayes\n",
      "[........................................] 100% | 0.20 sec | GridSearchCV \n",
      "Fitting DecisionTree\n",
      "[........................................] 100% | 8.55 sec | GridSearchCV \n",
      "Fitting BaggedDecisionTree\n",
      "[........................................] 100% | 48.28 sec | GridSearchCV \n",
      "Fitting RandomForest\n",
      "[........................................] 100% | 18.57 sec | GridSearchCV \n",
      "Fitting ExtraTrees\n",
      "[........................................] 100% | 29.50 sec | GridSearchCV \n",
      "Fitting AdaBoost\n",
      "[........................................] 100% | 20.73 sec | GridSearchCV \n",
      "Fitting SVM\n",
      "[........................................] 100% | 72.79 sec | GridSearchCV \n"
     ]
    },
    {
     "data": {
      "text/plain": [
       "274.57068705558777"
      ]
     },
     "execution_count": 28,
     "metadata": {},
     "output_type": "execute_result"
    }
   ],
   "source": [
    "t0 = time.time()\n",
    "gs_tfidf_summaries = pd.DataFrame()\n",
    "\n",
    "for model_name, model in classifier_models.items():\n",
    "    gs_tfidf_summaries = gs_tfidf_summaries.append(gridsearch_summary(Xtfidf_train, Xtfidf_test, y_train, y_test, \n",
    "                                                                       model_name, model, \n",
    "                                                                       classifier_model_params[model_name]), \n",
    "                                                                       ignore_index = True)\n",
    "time.time() - t0"
   ]
  },
  {
   "cell_type": "code",
   "execution_count": 29,
   "metadata": {},
   "outputs": [
    {
     "data": {
      "text/html": [
       "<div>\n",
       "<style scoped>\n",
       "    .dataframe tbody tr th:only-of-type {\n",
       "        vertical-align: middle;\n",
       "    }\n",
       "\n",
       "    .dataframe tbody tr th {\n",
       "        vertical-align: top;\n",
       "    }\n",
       "\n",
       "    .dataframe thead th {\n",
       "        text-align: right;\n",
       "    }\n",
       "</style>\n",
       "<table border=\"1\" class=\"dataframe\">\n",
       "  <thead>\n",
       "    <tr style=\"text-align: right;\">\n",
       "      <th></th>\n",
       "      <th>Model Name</th>\n",
       "      <th>Best Params</th>\n",
       "      <th>Best Score</th>\n",
       "      <th>Train Score</th>\n",
       "      <th>Test Score</th>\n",
       "    </tr>\n",
       "  </thead>\n",
       "  <tbody>\n",
       "    <tr>\n",
       "      <th>0</th>\n",
       "      <td>LogisticRegression</td>\n",
       "      <td>{'C': 10, 'penalty': 'l2'}</td>\n",
       "      <td>0.813918</td>\n",
       "      <td>0.979576</td>\n",
       "      <td>0.829932</td>\n",
       "    </tr>\n",
       "    <tr>\n",
       "      <th>1</th>\n",
       "      <td>KNN</td>\n",
       "      <td>{'n_neighbors': 21}</td>\n",
       "      <td>0.789713</td>\n",
       "      <td>0.801059</td>\n",
       "      <td>0.741497</td>\n",
       "    </tr>\n",
       "    <tr>\n",
       "      <th>2</th>\n",
       "      <td>NaiveBayes</td>\n",
       "      <td>{'alpha': 0.5}</td>\n",
       "      <td>0.835098</td>\n",
       "      <td>0.886536</td>\n",
       "      <td>0.823129</td>\n",
       "    </tr>\n",
       "    <tr>\n",
       "      <th>3</th>\n",
       "      <td>DecisionTree</td>\n",
       "      <td>{'max_depth': 6, 'min_samples_leaf': 1, 'min_s...</td>\n",
       "      <td>0.704236</td>\n",
       "      <td>0.781392</td>\n",
       "      <td>0.684807</td>\n",
       "    </tr>\n",
       "    <tr>\n",
       "      <th>4</th>\n",
       "      <td>BaggedDecisionTree</td>\n",
       "      <td>{'n_estimators': 40}</td>\n",
       "      <td>0.770802</td>\n",
       "      <td>0.997731</td>\n",
       "      <td>0.757370</td>\n",
       "    </tr>\n",
       "    <tr>\n",
       "      <th>5</th>\n",
       "      <td>RandomForest</td>\n",
       "      <td>{'max_depth': 10, 'min_samples_split': 2, 'n_e...</td>\n",
       "      <td>0.799546</td>\n",
       "      <td>0.896369</td>\n",
       "      <td>0.768707</td>\n",
       "    </tr>\n",
       "    <tr>\n",
       "      <th>6</th>\n",
       "      <td>ExtraTrees</td>\n",
       "      <td>{'max_depth': None, 'min_samples_leaf': 1, 'mi...</td>\n",
       "      <td>0.794251</td>\n",
       "      <td>0.999244</td>\n",
       "      <td>0.768707</td>\n",
       "    </tr>\n",
       "    <tr>\n",
       "      <th>7</th>\n",
       "      <td>AdaBoost</td>\n",
       "      <td>{'learning_rate': 1.0, 'n_estimators': 75}</td>\n",
       "      <td>0.757943</td>\n",
       "      <td>0.916793</td>\n",
       "      <td>0.786848</td>\n",
       "    </tr>\n",
       "    <tr>\n",
       "      <th>8</th>\n",
       "      <td>SVM</td>\n",
       "      <td>{'C': 1, 'kernel': 'linear'}</td>\n",
       "      <td>0.816944</td>\n",
       "      <td>0.937216</td>\n",
       "      <td>0.823129</td>\n",
       "    </tr>\n",
       "  </tbody>\n",
       "</table>\n",
       "</div>"
      ],
      "text/plain": [
       "           Model Name                                        Best Params  \\\n",
       "0  LogisticRegression                         {'C': 10, 'penalty': 'l2'}   \n",
       "1                 KNN                                {'n_neighbors': 21}   \n",
       "2          NaiveBayes                                     {'alpha': 0.5}   \n",
       "3        DecisionTree  {'max_depth': 6, 'min_samples_leaf': 1, 'min_s...   \n",
       "4  BaggedDecisionTree                               {'n_estimators': 40}   \n",
       "5        RandomForest  {'max_depth': 10, 'min_samples_split': 2, 'n_e...   \n",
       "6          ExtraTrees  {'max_depth': None, 'min_samples_leaf': 1, 'mi...   \n",
       "7            AdaBoost         {'learning_rate': 1.0, 'n_estimators': 75}   \n",
       "8                 SVM                       {'C': 1, 'kernel': 'linear'}   \n",
       "\n",
       "   Best Score  Train Score  Test Score  \n",
       "0    0.813918     0.979576    0.829932  \n",
       "1    0.789713     0.801059    0.741497  \n",
       "2    0.835098     0.886536    0.823129  \n",
       "3    0.704236     0.781392    0.684807  \n",
       "4    0.770802     0.997731    0.757370  \n",
       "5    0.799546     0.896369    0.768707  \n",
       "6    0.794251     0.999244    0.768707  \n",
       "7    0.757943     0.916793    0.786848  \n",
       "8    0.816944     0.937216    0.823129  "
      ]
     },
     "execution_count": 29,
     "metadata": {},
     "output_type": "execute_result"
    }
   ],
   "source": [
    "gs_tfidf_summaries[['Model Name', 'Best Params', 'Best Score', 'Train Score', 'Test Score']]"
   ]
  },
  {
   "cell_type": "markdown",
   "metadata": {},
   "source": [
    "### VotingClassifier"
   ]
  },
  {
   "cell_type": "markdown",
   "metadata": {},
   "source": [
    "#### With CountVectorizer"
   ]
  },
  {
   "cell_type": "code",
   "execution_count": 30,
   "metadata": {},
   "outputs": [
    {
     "data": {
      "text/plain": [
       "VotingClassifier(estimators=[('LogisticRegression', LogisticRegression(C=1.0, class_weight=None, dual=False, fit_intercept=True,\n",
       "          intercept_scaling=1, max_iter=100, multi_class='ovr', n_jobs=1,\n",
       "          penalty='l2', random_state=None, solver='liblinear', tol=0.0001,\n",
       "          verbose=0, warm_start=False))...,\n",
       "  max_iter=-1, probability=False, random_state=None, shrinking=True,\n",
       "  tol=0.001, verbose=False))],\n",
       "         flatten_transform=None, n_jobs=1, voting='hard', weights=None)"
      ]
     },
     "execution_count": 30,
     "metadata": {},
     "output_type": "execute_result"
    }
   ],
   "source": [
    "vote = VotingClassifier(\n",
    "    [(model_name, model) for model_name, model in classifier_models.items()]\n",
    ")\n",
    "vote.fit(Xv_train, y_train)"
   ]
  },
  {
   "cell_type": "code",
   "execution_count": 31,
   "metadata": {},
   "outputs": [
    {
     "name": "stdout",
     "output_type": "stream",
     "text": [
      "0.8138869902027797\n"
     ]
    },
    {
     "data": {
      "text/plain": [
       "32.477360248565674"
      ]
     },
     "execution_count": 31,
     "metadata": {},
     "output_type": "execute_result"
    }
   ],
   "source": [
    "t0 = time.time()\n",
    "print(cross_val_score(vote, Xv_train, y_train, cv = kf).mean())\n",
    "time.time() - t0"
   ]
  },
  {
   "cell_type": "code",
   "execution_count": 32,
   "metadata": {},
   "outputs": [
    {
     "name": "stdout",
     "output_type": "stream",
     "text": [
      "Train Score: 0.9969742813918305\n",
      "Test Score: 0.8049886621315193\n"
     ]
    }
   ],
   "source": [
    "print('Train Score:', vote.score(Xv_train, y_train))\n",
    "print('Test Score:', vote.score(Xv_test, y_test))"
   ]
  },
  {
   "cell_type": "markdown",
   "metadata": {},
   "source": [
    "#### With TfidfVectorizer"
   ]
  },
  {
   "cell_type": "code",
   "execution_count": 33,
   "metadata": {},
   "outputs": [
    {
     "name": "stdout",
     "output_type": "stream",
     "text": [
      "0.8086010480747323\n"
     ]
    },
    {
     "data": {
      "text/plain": [
       "41.75851392745972"
      ]
     },
     "execution_count": 33,
     "metadata": {},
     "output_type": "execute_result"
    }
   ],
   "source": [
    "t0 = time.time()\n",
    "print(cross_val_score(vote, Xtfidf_train, y_train, cv = kf).mean())\n",
    "time.time() - t0"
   ]
  },
  {
   "cell_type": "code",
   "execution_count": 34,
   "metadata": {},
   "outputs": [
    {
     "name": "stdout",
     "output_type": "stream",
     "text": [
      "Train Score: 0.9795763993948563\n",
      "Test Score: 0.7868480725623582\n"
     ]
    }
   ],
   "source": [
    "vote.fit(Xtfidf_train, y_train)\n",
    "print('Train Score:', vote.score(Xtfidf_train, y_train))\n",
    "print('Test Score:', vote.score(Xtfidf_test, y_test))"
   ]
  },
  {
   "cell_type": "markdown",
   "metadata": {},
   "source": [
    "`VotingClassifier` appears to perform better with CountVectorizer."
   ]
  },
  {
   "cell_type": "markdown",
   "metadata": {},
   "source": [
    "### Evaluation and Conceptual Understanding"
   ]
  },
  {
   "cell_type": "markdown",
   "metadata": {},
   "source": [
    "`TfidfVectorizer` tends to produce more accurate models than `CountVectorizer`. The top features generated from `TfidfVectorizer` also tend to be more meaningful. \n",
    "\n",
    "Unseen data will be newly submitted posts on `/r/leanfire`, meaning all new data belongs to the positive class (`y=1`). If the model classifies a post as negative (`y=0`), then it is likely to be spam.  \n",
    "\n",
    "True Positives = Ham  \n",
    "False Negative = Spam  \n",
    "\n",
    "To maintain the integrity of the subreddit, I prefer the model to have a **sufficiently high False Negative rate** (spam detection rate). The consequence of this decision is that **some quality posts may be blocked**. This is preferred over **letting actual spam bypass the detection algorithm**. \n"
   ]
  }
 ],
 "metadata": {
  "kernelspec": {
   "display_name": "Python [conda env:dsi]",
   "language": "python",
   "name": "conda-env-dsi-py"
  },
  "language_info": {
   "codemirror_mode": {
    "name": "ipython",
    "version": 3
   },
   "file_extension": ".py",
   "mimetype": "text/x-python",
   "name": "python",
   "nbconvert_exporter": "python",
   "pygments_lexer": "ipython3",
   "version": "3.6.5"
  }
 },
 "nbformat": 4,
 "nbformat_minor": 2
}
