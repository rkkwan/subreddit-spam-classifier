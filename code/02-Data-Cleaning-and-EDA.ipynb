{
 "cells": [
  {
   "cell_type": "markdown",
   "metadata": {},
   "source": [
    "# Subreddit Spam Classifier\n",
    "#### Web APIs & Classification\n",
    "_Author: Ritchie Kwan_\n",
    "\n",
    "---\n"
   ]
  },
  {
   "cell_type": "markdown",
   "metadata": {},
   "source": [
    "## Table of Contents\n",
    "\n",
    "0. [Problem Statement](01-Gathering-Data.ipynb#Problem-Statement)\n",
    "1. [Data Collection](01-Gathering-Data.ipynb#Data-Collection)\n",
    "1. [Data Cleaning & EDA](#Data-Cleaning-and-EDA)\n",
    "1. [Benchmark Model](03-Benchmark-Model.ipynb#Benchmark-Model)\n",
    "1. [Model Tuning](04-Model-Tuning.ipynb#Model-Tuning)\n",
    "1. [Evaluation and Conceptual Understanding](04-Model-Tuning.ipynb#Evaluation-and-Conceptual-Understanding)\n"
   ]
  },
  {
   "cell_type": "markdown",
   "metadata": {},
   "source": [
    "### Import Libraries"
   ]
  },
  {
   "cell_type": "code",
   "execution_count": 1,
   "metadata": {},
   "outputs": [],
   "source": [
    "import pandas as pd\n",
    "\n",
    "from nltk.stem import WordNetLemmatizer\n",
    "from nltk.tokenize import RegexpTokenizer\n",
    "\n",
    "import warnings\n",
    "warnings.filterwarnings('ignore')"
   ]
  },
  {
   "cell_type": "markdown",
   "metadata": {},
   "source": [
    "### Load Data"
   ]
  },
  {
   "cell_type": "code",
   "execution_count": 2,
   "metadata": {},
   "outputs": [],
   "source": [
    "df = pd.read_csv('../data/fatfire-leanfire.csv')"
   ]
  },
  {
   "cell_type": "code",
   "execution_count": 3,
   "metadata": {
    "scrolled": true
   },
   "outputs": [
    {
     "data": {
      "text/html": [
       "<div>\n",
       "<style scoped>\n",
       "    .dataframe tbody tr th:only-of-type {\n",
       "        vertical-align: middle;\n",
       "    }\n",
       "\n",
       "    .dataframe tbody tr th {\n",
       "        vertical-align: top;\n",
       "    }\n",
       "\n",
       "    .dataframe thead th {\n",
       "        text-align: right;\n",
       "    }\n",
       "</style>\n",
       "<table border=\"1\" class=\"dataframe\">\n",
       "  <thead>\n",
       "    <tr style=\"text-align: right;\">\n",
       "      <th></th>\n",
       "      <th>approved_at_utc</th>\n",
       "      <th>approved_by</th>\n",
       "      <th>archived</th>\n",
       "      <th>author</th>\n",
       "      <th>author_cakeday</th>\n",
       "      <th>author_flair_background_color</th>\n",
       "      <th>author_flair_css_class</th>\n",
       "      <th>author_flair_richtext</th>\n",
       "      <th>author_flair_template_id</th>\n",
       "      <th>author_flair_text</th>\n",
       "      <th>...</th>\n",
       "      <th>thumbnail_height</th>\n",
       "      <th>thumbnail_width</th>\n",
       "      <th>title</th>\n",
       "      <th>ups</th>\n",
       "      <th>url</th>\n",
       "      <th>user_reports</th>\n",
       "      <th>view_count</th>\n",
       "      <th>visited</th>\n",
       "      <th>whitelist_status</th>\n",
       "      <th>wls</th>\n",
       "    </tr>\n",
       "  </thead>\n",
       "  <tbody>\n",
       "    <tr>\n",
       "      <th>0</th>\n",
       "      <td>NaN</td>\n",
       "      <td>NaN</td>\n",
       "      <td>True</td>\n",
       "      <td>Hawk_Sight</td>\n",
       "      <td>NaN</td>\n",
       "      <td>NaN</td>\n",
       "      <td>NaN</td>\n",
       "      <td>[]</td>\n",
       "      <td>NaN</td>\n",
       "      <td>NaN</td>\n",
       "      <td>...</td>\n",
       "      <td>NaN</td>\n",
       "      <td>NaN</td>\n",
       "      <td>Saving money on food</td>\n",
       "      <td>61</td>\n",
       "      <td>https://www.reddit.com/r/leanfire/comments/7wt...</td>\n",
       "      <td>[]</td>\n",
       "      <td>NaN</td>\n",
       "      <td>False</td>\n",
       "      <td>all_ads</td>\n",
       "      <td>6.0</td>\n",
       "    </tr>\n",
       "    <tr>\n",
       "      <th>1</th>\n",
       "      <td>NaN</td>\n",
       "      <td>NaN</td>\n",
       "      <td>False</td>\n",
       "      <td>chubbyfire</td>\n",
       "      <td>NaN</td>\n",
       "      <td>NaN</td>\n",
       "      <td>NaN</td>\n",
       "      <td>[]</td>\n",
       "      <td>NaN</td>\n",
       "      <td>NaN</td>\n",
       "      <td>...</td>\n",
       "      <td>NaN</td>\n",
       "      <td>NaN</td>\n",
       "      <td>Transitioning to the next chapter...what are y...</td>\n",
       "      <td>58</td>\n",
       "      <td>https://www.reddit.com/r/fatFIRE/comments/9gvb...</td>\n",
       "      <td>[]</td>\n",
       "      <td>NaN</td>\n",
       "      <td>False</td>\n",
       "      <td>NaN</td>\n",
       "      <td>NaN</td>\n",
       "    </tr>\n",
       "    <tr>\n",
       "      <th>2</th>\n",
       "      <td>NaN</td>\n",
       "      <td>NaN</td>\n",
       "      <td>True</td>\n",
       "      <td>afflictedfury</td>\n",
       "      <td>NaN</td>\n",
       "      <td>NaN</td>\n",
       "      <td>NaN</td>\n",
       "      <td>[]</td>\n",
       "      <td>NaN</td>\n",
       "      <td>NaN</td>\n",
       "      <td>...</td>\n",
       "      <td>NaN</td>\n",
       "      <td>NaN</td>\n",
       "      <td>26 yr old debating 2 career paths for FIRE/Fat...</td>\n",
       "      <td>0</td>\n",
       "      <td>https://www.reddit.com/r/fatFIRE/comments/8pdn...</td>\n",
       "      <td>[]</td>\n",
       "      <td>NaN</td>\n",
       "      <td>False</td>\n",
       "      <td>NaN</td>\n",
       "      <td>NaN</td>\n",
       "    </tr>\n",
       "    <tr>\n",
       "      <th>3</th>\n",
       "      <td>NaN</td>\n",
       "      <td>NaN</td>\n",
       "      <td>True</td>\n",
       "      <td>my_FI_</td>\n",
       "      <td>NaN</td>\n",
       "      <td>NaN</td>\n",
       "      <td>NaN</td>\n",
       "      <td>[]</td>\n",
       "      <td>NaN</td>\n",
       "      <td>NaN</td>\n",
       "      <td>...</td>\n",
       "      <td>NaN</td>\n",
       "      <td>NaN</td>\n",
       "      <td>Best banking relationships with a lot of money</td>\n",
       "      <td>28</td>\n",
       "      <td>https://www.reddit.com/r/fatFIRE/comments/6kb3...</td>\n",
       "      <td>[]</td>\n",
       "      <td>NaN</td>\n",
       "      <td>False</td>\n",
       "      <td>NaN</td>\n",
       "      <td>NaN</td>\n",
       "    </tr>\n",
       "    <tr>\n",
       "      <th>4</th>\n",
       "      <td>NaN</td>\n",
       "      <td>NaN</td>\n",
       "      <td>True</td>\n",
       "      <td>BlueberryRush</td>\n",
       "      <td>NaN</td>\n",
       "      <td>NaN</td>\n",
       "      <td>NaN</td>\n",
       "      <td>[]</td>\n",
       "      <td>NaN</td>\n",
       "      <td>NaN</td>\n",
       "      <td>...</td>\n",
       "      <td>NaN</td>\n",
       "      <td>NaN</td>\n",
       "      <td>My Mom is literally working for Health Insuran...</td>\n",
       "      <td>43</td>\n",
       "      <td>https://www.reddit.com/r/leanfire/comments/6ju...</td>\n",
       "      <td>[]</td>\n",
       "      <td>NaN</td>\n",
       "      <td>False</td>\n",
       "      <td>all_ads</td>\n",
       "      <td>6.0</td>\n",
       "    </tr>\n",
       "  </tbody>\n",
       "</table>\n",
       "<p>5 rows × 100 columns</p>\n",
       "</div>"
      ],
      "text/plain": [
       "   approved_at_utc  approved_by  archived         author author_cakeday  \\\n",
       "0              NaN          NaN      True     Hawk_Sight            NaN   \n",
       "1              NaN          NaN     False     chubbyfire            NaN   \n",
       "2              NaN          NaN      True  afflictedfury            NaN   \n",
       "3              NaN          NaN      True         my_FI_            NaN   \n",
       "4              NaN          NaN      True  BlueberryRush            NaN   \n",
       "\n",
       "   author_flair_background_color  author_flair_css_class  \\\n",
       "0                            NaN                     NaN   \n",
       "1                            NaN                     NaN   \n",
       "2                            NaN                     NaN   \n",
       "3                            NaN                     NaN   \n",
       "4                            NaN                     NaN   \n",
       "\n",
       "  author_flair_richtext author_flair_template_id author_flair_text ...   \\\n",
       "0                    []                      NaN               NaN ...    \n",
       "1                    []                      NaN               NaN ...    \n",
       "2                    []                      NaN               NaN ...    \n",
       "3                    []                      NaN               NaN ...    \n",
       "4                    []                      NaN               NaN ...    \n",
       "\n",
       "  thumbnail_height thumbnail_width  \\\n",
       "0              NaN             NaN   \n",
       "1              NaN             NaN   \n",
       "2              NaN             NaN   \n",
       "3              NaN             NaN   \n",
       "4              NaN             NaN   \n",
       "\n",
       "                                               title ups  \\\n",
       "0                               Saving money on food  61   \n",
       "1  Transitioning to the next chapter...what are y...  58   \n",
       "2  26 yr old debating 2 career paths for FIRE/Fat...   0   \n",
       "3     Best banking relationships with a lot of money  28   \n",
       "4  My Mom is literally working for Health Insuran...  43   \n",
       "\n",
       "                                                 url  user_reports  \\\n",
       "0  https://www.reddit.com/r/leanfire/comments/7wt...            []   \n",
       "1  https://www.reddit.com/r/fatFIRE/comments/9gvb...            []   \n",
       "2  https://www.reddit.com/r/fatFIRE/comments/8pdn...            []   \n",
       "3  https://www.reddit.com/r/fatFIRE/comments/6kb3...            []   \n",
       "4  https://www.reddit.com/r/leanfire/comments/6ju...            []   \n",
       "\n",
       "   view_count  visited  whitelist_status  wls  \n",
       "0         NaN    False           all_ads  6.0  \n",
       "1         NaN    False               NaN  NaN  \n",
       "2         NaN    False               NaN  NaN  \n",
       "3         NaN    False               NaN  NaN  \n",
       "4         NaN    False           all_ads  6.0  \n",
       "\n",
       "[5 rows x 100 columns]"
      ]
     },
     "execution_count": 3,
     "metadata": {},
     "output_type": "execute_result"
    }
   ],
   "source": [
    "df.head()"
   ]
  },
  {
   "cell_type": "markdown",
   "metadata": {},
   "source": [
    "## Data Cleaning and EDA"
   ]
  },
  {
   "cell_type": "markdown",
   "metadata": {},
   "source": [
    "### The target is the majority class"
   ]
  },
  {
   "cell_type": "code",
   "execution_count": 4,
   "metadata": {},
   "outputs": [
    {
     "data": {
      "text/plain": [
       "leanfire    999\n",
       "fatFIRE     764\n",
       "Name: subreddit, dtype: int64"
      ]
     },
     "execution_count": 4,
     "metadata": {},
     "output_type": "execute_result"
    }
   ],
   "source": [
    "subs = df['subreddit'].value_counts()\n",
    "subs"
   ]
  },
  {
   "cell_type": "markdown",
   "metadata": {},
   "source": [
    "### Binarize the target"
   ]
  },
  {
   "cell_type": "code",
   "execution_count": 5,
   "metadata": {},
   "outputs": [
    {
     "data": {
      "text/plain": [
       "0    1\n",
       "1    0\n",
       "2    0\n",
       "3    0\n",
       "4    1\n",
       "Name: subreddit_leanfire, dtype: int64"
      ]
     },
     "execution_count": 5,
     "metadata": {},
     "output_type": "execute_result"
    }
   ],
   "source": [
    "target = 'subreddit_' + subs.index[0].lower()\n",
    "\n",
    "df[target] = df['subreddit'].map({subs.index[0] : 1, subs.index[1] : 0})\n",
    "df[target].head()"
   ]
  },
  {
   "cell_type": "markdown",
   "metadata": {},
   "source": [
    "### Define X and y\n",
    "Our predictive features are `title`, `selftext`, and `comments`.  \n",
    "Our target class is `subreddit`."
   ]
  },
  {
   "cell_type": "code",
   "execution_count": 6,
   "metadata": {},
   "outputs": [],
   "source": [
    "features = ['title', 'selftext', 'comments']\n",
    "\n",
    "X = df[features]\n",
    "y = df['subreddit_'+subs.index[0].lower()]"
   ]
  },
  {
   "cell_type": "code",
   "execution_count": 7,
   "metadata": {
    "scrolled": true
   },
   "outputs": [
    {
     "data": {
      "text/html": [
       "<div>\n",
       "<style scoped>\n",
       "    .dataframe tbody tr th:only-of-type {\n",
       "        vertical-align: middle;\n",
       "    }\n",
       "\n",
       "    .dataframe tbody tr th {\n",
       "        vertical-align: top;\n",
       "    }\n",
       "\n",
       "    .dataframe thead th {\n",
       "        text-align: right;\n",
       "    }\n",
       "</style>\n",
       "<table border=\"1\" class=\"dataframe\">\n",
       "  <thead>\n",
       "    <tr style=\"text-align: right;\">\n",
       "      <th></th>\n",
       "      <th>title</th>\n",
       "      <th>selftext</th>\n",
       "      <th>comments</th>\n",
       "    </tr>\n",
       "  </thead>\n",
       "  <tbody>\n",
       "    <tr>\n",
       "      <th>0</th>\n",
       "      <td>Saving money on food</td>\n",
       "      <td>I know food is a general topic and not directl...</td>\n",
       "      <td>['Budgetbytes.com', 'Seconded, this is a great...</td>\n",
       "    </tr>\n",
       "    <tr>\n",
       "      <th>1</th>\n",
       "      <td>Transitioning to the next chapter...what are y...</td>\n",
       "      <td>I’m in my late 40s and planning to exit a comp...</td>\n",
       "      <td>[\"Have you given consideration to simply stopp...</td>\n",
       "    </tr>\n",
       "    <tr>\n",
       "      <th>2</th>\n",
       "      <td>26 yr old debating 2 career paths for FIRE/Fat...</td>\n",
       "      <td>Hey FatFire,\\n\\nI would like you all something...</td>\n",
       "      <td>[\"PE without a doubt if you want to stay in fi...</td>\n",
       "    </tr>\n",
       "    <tr>\n",
       "      <th>3</th>\n",
       "      <td>Best banking relationships with a lot of money</td>\n",
       "      <td>I currently have most of my money in Schwab bu...</td>\n",
       "      <td>[\"BofA + Merrill Edge with $100K brokerage bal...</td>\n",
       "    </tr>\n",
       "    <tr>\n",
       "      <th>4</th>\n",
       "      <td>My Mom is literally working for Health Insuran...</td>\n",
       "      <td>My parents are in their late 50's.  My dad rec...</td>\n",
       "      <td>['No reason for what she is doing.  Get to the...</td>\n",
       "    </tr>\n",
       "  </tbody>\n",
       "</table>\n",
       "</div>"
      ],
      "text/plain": [
       "                                               title  \\\n",
       "0                               Saving money on food   \n",
       "1  Transitioning to the next chapter...what are y...   \n",
       "2  26 yr old debating 2 career paths for FIRE/Fat...   \n",
       "3     Best banking relationships with a lot of money   \n",
       "4  My Mom is literally working for Health Insuran...   \n",
       "\n",
       "                                            selftext  \\\n",
       "0  I know food is a general topic and not directl...   \n",
       "1  I’m in my late 40s and planning to exit a comp...   \n",
       "2  Hey FatFire,\\n\\nI would like you all something...   \n",
       "3  I currently have most of my money in Schwab bu...   \n",
       "4  My parents are in their late 50's.  My dad rec...   \n",
       "\n",
       "                                            comments  \n",
       "0  ['Budgetbytes.com', 'Seconded, this is a great...  \n",
       "1  [\"Have you given consideration to simply stopp...  \n",
       "2  [\"PE without a doubt if you want to stay in fi...  \n",
       "3  [\"BofA + Merrill Edge with $100K brokerage bal...  \n",
       "4  ['No reason for what she is doing.  Get to the...  "
      ]
     },
     "execution_count": 7,
     "metadata": {},
     "output_type": "execute_result"
    }
   ],
   "source": [
    "X.head()"
   ]
  },
  {
   "cell_type": "code",
   "execution_count": 8,
   "metadata": {},
   "outputs": [
    {
     "data": {
      "text/plain": [
       "(1763, 3)"
      ]
     },
     "execution_count": 8,
     "metadata": {},
     "output_type": "execute_result"
    }
   ],
   "source": [
    "X.shape"
   ]
  },
  {
   "cell_type": "markdown",
   "metadata": {},
   "source": [
    "### Ensure the class is balanced"
   ]
  },
  {
   "cell_type": "code",
   "execution_count": 9,
   "metadata": {
    "scrolled": true
   },
   "outputs": [
    {
     "data": {
      "text/plain": [
       "1    999\n",
       "0    764\n",
       "Name: subreddit_leanfire, dtype: int64"
      ]
     },
     "execution_count": 9,
     "metadata": {},
     "output_type": "execute_result"
    }
   ],
   "source": [
    "y.value_counts()"
   ]
  },
  {
   "cell_type": "code",
   "execution_count": 10,
   "metadata": {},
   "outputs": [
    {
     "data": {
      "text/plain": [
       "1    0.566648\n",
       "0    0.433352\n",
       "Name: subreddit_leanfire, dtype: float64"
      ]
     },
     "execution_count": 10,
     "metadata": {},
     "output_type": "execute_result"
    }
   ],
   "source": [
    "y.value_counts(normalize = True)"
   ]
  },
  {
   "cell_type": "markdown",
   "metadata": {},
   "source": [
    "### Tokenize X"
   ]
  },
  {
   "cell_type": "code",
   "execution_count": 11,
   "metadata": {},
   "outputs": [],
   "source": [
    "# Instantiate Tokenizer\n",
    "tokenizer = RegexpTokenizer(r'\\w+')\n",
    "\n",
    "# Run Tokenizer for each column of X\n",
    "for col in features:\n",
    "    X[col+'_tokens'] = X[col].apply(lambda words : \n",
    "                                    tokenizer.tokenize(str(words).lower()))\n",
    "    "
   ]
  },
  {
   "cell_type": "code",
   "execution_count": 12,
   "metadata": {},
   "outputs": [
    {
     "data": {
      "text/html": [
       "<div>\n",
       "<style scoped>\n",
       "    .dataframe tbody tr th:only-of-type {\n",
       "        vertical-align: middle;\n",
       "    }\n",
       "\n",
       "    .dataframe tbody tr th {\n",
       "        vertical-align: top;\n",
       "    }\n",
       "\n",
       "    .dataframe thead th {\n",
       "        text-align: right;\n",
       "    }\n",
       "</style>\n",
       "<table border=\"1\" class=\"dataframe\">\n",
       "  <thead>\n",
       "    <tr style=\"text-align: right;\">\n",
       "      <th></th>\n",
       "      <th>title</th>\n",
       "      <th>selftext</th>\n",
       "      <th>comments</th>\n",
       "      <th>title_tokens</th>\n",
       "      <th>selftext_tokens</th>\n",
       "      <th>comments_tokens</th>\n",
       "    </tr>\n",
       "  </thead>\n",
       "  <tbody>\n",
       "    <tr>\n",
       "      <th>0</th>\n",
       "      <td>Saving money on food</td>\n",
       "      <td>I know food is a general topic and not directl...</td>\n",
       "      <td>['Budgetbytes.com', 'Seconded, this is a great...</td>\n",
       "      <td>[saving, money, on, food]</td>\n",
       "      <td>[i, know, food, is, a, general, topic, and, no...</td>\n",
       "      <td>[budgetbytes, com, seconded, this, is, a, grea...</td>\n",
       "    </tr>\n",
       "    <tr>\n",
       "      <th>1</th>\n",
       "      <td>Transitioning to the next chapter...what are y...</td>\n",
       "      <td>I’m in my late 40s and planning to exit a comp...</td>\n",
       "      <td>[\"Have you given consideration to simply stopp...</td>\n",
       "      <td>[transitioning, to, the, next, chapter, what, ...</td>\n",
       "      <td>[i, m, in, my, late, 40s, and, planning, to, e...</td>\n",
       "      <td>[have, you, given, consideration, to, simply, ...</td>\n",
       "    </tr>\n",
       "    <tr>\n",
       "      <th>2</th>\n",
       "      <td>26 yr old debating 2 career paths for FIRE/Fat...</td>\n",
       "      <td>Hey FatFire,\\n\\nI would like you all something...</td>\n",
       "      <td>[\"PE without a doubt if you want to stay in fi...</td>\n",
       "      <td>[26, yr, old, debating, 2, career, paths, for,...</td>\n",
       "      <td>[hey, fatfire, i, would, like, you, all, somet...</td>\n",
       "      <td>[pe, without, a, doubt, if, you, want, to, sta...</td>\n",
       "    </tr>\n",
       "    <tr>\n",
       "      <th>3</th>\n",
       "      <td>Best banking relationships with a lot of money</td>\n",
       "      <td>I currently have most of my money in Schwab bu...</td>\n",
       "      <td>[\"BofA + Merrill Edge with $100K brokerage bal...</td>\n",
       "      <td>[best, banking, relationships, with, a, lot, o...</td>\n",
       "      <td>[i, currently, have, most, of, my, money, in, ...</td>\n",
       "      <td>[bofa, merrill, edge, with, 100k, brokerage, b...</td>\n",
       "    </tr>\n",
       "    <tr>\n",
       "      <th>4</th>\n",
       "      <td>My Mom is literally working for Health Insuran...</td>\n",
       "      <td>My parents are in their late 50's.  My dad rec...</td>\n",
       "      <td>['No reason for what she is doing.  Get to the...</td>\n",
       "      <td>[my, mom, is, literally, working, for, health,...</td>\n",
       "      <td>[my, parents, are, in, their, late, 50, s, my,...</td>\n",
       "      <td>[no, reason, for, what, she, is, doing, get, t...</td>\n",
       "    </tr>\n",
       "  </tbody>\n",
       "</table>\n",
       "</div>"
      ],
      "text/plain": [
       "                                               title  \\\n",
       "0                               Saving money on food   \n",
       "1  Transitioning to the next chapter...what are y...   \n",
       "2  26 yr old debating 2 career paths for FIRE/Fat...   \n",
       "3     Best banking relationships with a lot of money   \n",
       "4  My Mom is literally working for Health Insuran...   \n",
       "\n",
       "                                            selftext  \\\n",
       "0  I know food is a general topic and not directl...   \n",
       "1  I’m in my late 40s and planning to exit a comp...   \n",
       "2  Hey FatFire,\\n\\nI would like you all something...   \n",
       "3  I currently have most of my money in Schwab bu...   \n",
       "4  My parents are in their late 50's.  My dad rec...   \n",
       "\n",
       "                                            comments  \\\n",
       "0  ['Budgetbytes.com', 'Seconded, this is a great...   \n",
       "1  [\"Have you given consideration to simply stopp...   \n",
       "2  [\"PE without a doubt if you want to stay in fi...   \n",
       "3  [\"BofA + Merrill Edge with $100K brokerage bal...   \n",
       "4  ['No reason for what she is doing.  Get to the...   \n",
       "\n",
       "                                        title_tokens  \\\n",
       "0                          [saving, money, on, food]   \n",
       "1  [transitioning, to, the, next, chapter, what, ...   \n",
       "2  [26, yr, old, debating, 2, career, paths, for,...   \n",
       "3  [best, banking, relationships, with, a, lot, o...   \n",
       "4  [my, mom, is, literally, working, for, health,...   \n",
       "\n",
       "                                     selftext_tokens  \\\n",
       "0  [i, know, food, is, a, general, topic, and, no...   \n",
       "1  [i, m, in, my, late, 40s, and, planning, to, e...   \n",
       "2  [hey, fatfire, i, would, like, you, all, somet...   \n",
       "3  [i, currently, have, most, of, my, money, in, ...   \n",
       "4  [my, parents, are, in, their, late, 50, s, my,...   \n",
       "\n",
       "                                     comments_tokens  \n",
       "0  [budgetbytes, com, seconded, this, is, a, grea...  \n",
       "1  [have, you, given, consideration, to, simply, ...  \n",
       "2  [pe, without, a, doubt, if, you, want, to, sta...  \n",
       "3  [bofa, merrill, edge, with, 100k, brokerage, b...  \n",
       "4  [no, reason, for, what, she, is, doing, get, t...  "
      ]
     },
     "execution_count": 12,
     "metadata": {},
     "output_type": "execute_result"
    }
   ],
   "source": [
    "X.head()"
   ]
  },
  {
   "cell_type": "markdown",
   "metadata": {},
   "source": [
    "### Lemmatize X"
   ]
  },
  {
   "cell_type": "code",
   "execution_count": 13,
   "metadata": {
    "scrolled": false
   },
   "outputs": [],
   "source": [
    "# Instantiate Lemmatizer\n",
    "lemmatizer = WordNetLemmatizer()\n",
    "\n",
    "# Run Lemmatizer\n",
    "for col in features:\n",
    "    X[col+'_tokens_lem'] = X[col+'_tokens'].apply(lambda tokens: \n",
    "                                              [lemmatizer.lemmatize(t) for t in tokens])\n",
    "    "
   ]
  },
  {
   "cell_type": "code",
   "execution_count": 29,
   "metadata": {},
   "outputs": [
    {
     "data": {
      "text/plain": [
       "title                  Best banking relationships with a lot of money\n",
       "title_tokens        [best, banking, relationships, with, a, lot, o...\n",
       "title_tokens_lem    [best, banking, relationship, with, a, lot, of...\n",
       "Name: 3, dtype: object"
      ]
     },
     "execution_count": 29,
     "metadata": {},
     "output_type": "execute_result"
    }
   ],
   "source": [
    "X[['title', 'title_tokens', 'title_tokens_lem']].loc[3]"
   ]
  },
  {
   "cell_type": "markdown",
   "metadata": {},
   "source": [
    "### Save Data"
   ]
  },
  {
   "cell_type": "code",
   "execution_count": 14,
   "metadata": {},
   "outputs": [],
   "source": [
    "df[['title', 'selftext', 'comments']] = X[['title_tokens_lem', 'selftext_tokens_lem', 'comments_tokens_lem']]"
   ]
  },
  {
   "cell_type": "code",
   "execution_count": 15,
   "metadata": {},
   "outputs": [],
   "source": [
    "df[['title', 'selftext', 'comments', target]].to_csv(f'../data/{subs.index[0].lower()}-{subs.index[1].lower()}_clean.csv', index = False)\n",
    "   "
   ]
  }
 ],
 "metadata": {
  "kernelspec": {
   "display_name": "Python [default]",
   "language": "python",
   "name": "python3"
  },
  "language_info": {
   "codemirror_mode": {
    "name": "ipython",
    "version": 3
   },
   "file_extension": ".py",
   "mimetype": "text/x-python",
   "name": "python",
   "nbconvert_exporter": "python",
   "pygments_lexer": "ipython3",
   "version": "3.6.5"
  }
 },
 "nbformat": 4,
 "nbformat_minor": 2
}
